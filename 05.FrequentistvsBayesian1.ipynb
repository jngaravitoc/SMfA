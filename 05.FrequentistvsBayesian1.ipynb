{
 "cells": [
  {
   "cell_type": "code",
   "execution_count": 1,
   "metadata": {
    "collapsed": false
   },
   "outputs": [
    {
     "name": "stdout",
     "output_type": "stream",
     "text": [
      "Populating the interactive namespace from numpy and matplotlib\n"
     ]
    }
   ],
   "source": [
    "%pylab inline"
   ]
  },
  {
   "cell_type": "markdown",
   "metadata": {},
   "source": [
    "# Parabolic motion.\n",
    "\n",
    "How to get the initial velocities from the height $h$ and the range $R$\n",
    "\n",
    "The equations are:\n",
    "    \n",
    "$h = \\frac{1}{2} g v_y^2$\n",
    "\n",
    "$R = \\frac{2 v_x v_y}{g}$\n",
    "\n",
    "$v_x = \\sqrt{\\frac{g}{8}}$\n",
    "\n",
    "$v_y = \\sqrt{2gh}$\n",
    "\n",
    "\n",
    "After measuring a lot of times we get the following results:\n",
    "\n",
    "$R = 1.0 \\pm 0.2 m$\n",
    "\n",
    "$h = 1 \\pm 0.2 m$"
   ]
  },
  {
   "cell_type": "markdown",
   "metadata": {},
   "source": [
    "# 1. Error propagation\n",
    "\n",
    "$v_x^{0} = \\sqrt{\\frac{g}{8}} \\frac{10}{\\sqrt{1}} = 11.2 m s^{-1}$\n",
    "\n",
    "$v_y^{0} = \\sqrt{2g1} = 4.47 m s^{-1}$\n",
    "\n",
    "$ln v_x = ln \\sqrt{\\frac{g}{8}} + ln R - \\dfrac{1}{2} ln h$\n",
    "\n",
    "$\\frac{\\sigma_{v_x}}{v_x} = \\sqrt{ \\left( \\frac{\\sigma_{R}}{R} \\right)^2 + \\frac{1}{4}\\left( \\frac{\\sigma_h}{h} \\right)^2} = 0.1$\n",
    "\n",
    "$\\frac{\\sigma_{v_y}}{v_y} = \\dfrac{1}{R} \\dfrac{\\sigma_h}{h} = 0.1$"
   ]
  },
  {
   "cell_type": "markdown",
   "metadata": {},
   "source": [
    "# 2. Monte Carlo method (For frenquitist statistics)"
   ]
  },
  {
   "cell_type": "code",
   "execution_count": 9,
   "metadata": {
    "collapsed": true
   },
   "outputs": [],
   "source": [
    "h = np.random.normal(1.0, 0.2, 10000)\n",
    "R = np.random.normal(10.0, 0.2, 10000)"
   ]
  },
  {
   "cell_type": "code",
   "execution_count": 10,
   "metadata": {
    "collapsed": true
   },
   "outputs": [],
   "source": [
    "g = 9.8\n",
    "def velocities(h, R):\n",
    "    vx = np.sqrt(g/8.0) * R / np.sqrt(h)\n",
    "    vy = np.sqrt(2*g*h)\n",
    "    return vx, vy\n",
    "    "
   ]
  },
  {
   "cell_type": "code",
   "execution_count": 21,
   "metadata": {
    "collapsed": true
   },
   "outputs": [],
   "source": [
    "vx_mc, vy_mc = velocities(h, R)\n"
   ]
  },
  {
   "cell_type": "code",
   "execution_count": 41,
   "metadata": {
    "collapsed": false
   },
   "outputs": [],
   "source": [
    "# This is the correlation given by R\n",
    "vx_1= np.linspace(7, 25)\n",
    "vy_1 = 10.0*g/(2.0*vx_1)"
   ]
  },
  {
   "cell_type": "code",
   "execution_count": 42,
   "metadata": {
    "collapsed": true
   },
   "outputs": [],
   "source": [
    "# Histogram from the error propagation\n",
    "\n",
    "vx_ep = np.random.normal(11.2, 0.1, 10000)\n",
    "vy_ep = np.random.normal(4.47, 0.1, 10000)"
   ]
  },
  {
   "cell_type": "code",
   "execution_count": 1,
   "metadata": {
    "collapsed": false
   },
   "outputs": [
    {
     "ename": "NameError",
     "evalue": "name 'figure' is not defined",
     "output_type": "error",
     "traceback": [
      "\u001b[1;31m---------------------------------------------------------------------------\u001b[0m",
      "\u001b[1;31mNameError\u001b[0m                                 Traceback (most recent call last)",
      "\u001b[1;32m<ipython-input-1-203588f792a9>\u001b[0m in \u001b[0;36m<module>\u001b[1;34m()\u001b[0m\n\u001b[1;32m----> 1\u001b[1;33m \u001b[0mfigure\u001b[0m\u001b[1;33m(\u001b[0m\u001b[0mfigsize\u001b[0m\u001b[1;33m=\u001b[0m\u001b[1;33m(\u001b[0m\u001b[1;36m16\u001b[0m\u001b[1;33m,\u001b[0m \u001b[1;36m11\u001b[0m\u001b[1;33m)\u001b[0m\u001b[1;33m)\u001b[0m\u001b[1;33m\u001b[0m\u001b[0m\n\u001b[0m\u001b[0;32m      2\u001b[0m \u001b[0msubplot\u001b[0m\u001b[1;33m(\u001b[0m\u001b[1;36m2\u001b[0m\u001b[1;33m,\u001b[0m \u001b[1;36m2\u001b[0m\u001b[1;33m,\u001b[0m \u001b[1;36m1\u001b[0m\u001b[1;33m)\u001b[0m\u001b[1;33m\u001b[0m\u001b[0m\n\u001b[0;32m      3\u001b[0m \u001b[0mscatter\u001b[0m\u001b[1;33m(\u001b[0m\u001b[0mvx_mc\u001b[0m\u001b[1;33m,\u001b[0m \u001b[0mvy_mc\u001b[0m\u001b[1;33m,\u001b[0m \u001b[0ms\u001b[0m\u001b[1;33m=\u001b[0m\u001b[1;36m0.5\u001b[0m\u001b[1;33m)\u001b[0m\u001b[1;33m\u001b[0m\u001b[0m\n\u001b[0;32m      4\u001b[0m \u001b[0mplot\u001b[0m\u001b[1;33m(\u001b[0m\u001b[0mvx_1\u001b[0m\u001b[1;33m,\u001b[0m \u001b[0mvy_1\u001b[0m\u001b[1;33m,\u001b[0m \u001b[0mc\u001b[0m\u001b[1;33m=\u001b[0m\u001b[1;34m'r'\u001b[0m\u001b[1;33m,\u001b[0m \u001b[0mlw\u001b[0m\u001b[1;33m=\u001b[0m\u001b[1;36m2.0\u001b[0m\u001b[1;33m)\u001b[0m\u001b[1;33m\u001b[0m\u001b[0m\n\u001b[0;32m      5\u001b[0m \u001b[0mxlabel\u001b[0m\u001b[1;33m(\u001b[0m\u001b[1;34m'$v_x$'\u001b[0m\u001b[1;33m,\u001b[0m \u001b[0mfontsize\u001b[0m\u001b[1;33m=\u001b[0m\u001b[1;36m25\u001b[0m\u001b[1;33m)\u001b[0m\u001b[1;33m\u001b[0m\u001b[0m\n",
      "\u001b[1;31mNameError\u001b[0m: name 'figure' is not defined"
     ]
    }
   ],
   "source": [
    "figure(figsize=(16, 11))\n",
    "subplot(2, 2, 1)\n",
    "scatter(vx_mc, vy_mc, s=0.5)\n",
    "plot(vx_1, vy_1, c='r', lw=2.0)\n",
    "xlabel('$v_x$', fontsize=25)\n",
    "ylabel('$v_y$', fontsize=25)\n",
    "\n",
    "subplot(2, 2, 2)\n",
    "h1 = hist(vy_mc, bins=60, histtype='step', label='MC', normed='True')\n",
    "h12 = hist(vy_ep, bins=60, histtype='step', label='Error propagation', normed='True')\n",
    "legend(loc='best')\n",
    "xlabel('$v_y$', fontsize=25)\n",
    "subplot(2, 2, 3)\n",
    "h2 = hist(vx_mc, bins=60, histtype='step', label='MC', normed='True')\n",
    "h22 = hist(vx_ep, bins=60, histtype='step', label='Error propagation', normed='True')\n",
    "xlim(7, 25)\n",
    "legend(loc='best')\n",
    "xlabel('$v_x$', fontsize=25)"
   ]
  },
  {
   "cell_type": "code",
   "execution_count": 69,
   "metadata": {
    "collapsed": false
   },
   "outputs": [
    {
     "name": "stdout",
     "output_type": "stream",
     "text": [
      "[ 4.44156338]\n",
      "[ 10.96963752]\n"
     ]
    }
   ],
   "source": [
    "index_1 = np.where(h1[0]==max(h1[0]))[0]\n",
    "index_2 = np.where(h2[0]==max(h2[0]))[0]\n",
    "\n",
    "print h1[1][index_1]\n",
    "print h2[1][index_2]"
   ]
  },
  {
   "cell_type": "markdown",
   "metadata": {},
   "source": [
    "we see that the values of $vx$ and $vy$ using the montecarlo method are highly correlated, one of the observables (R) is more tighly constrait that the other one.\n",
    "\n",
    "HW: over plot the confidence levels, and the most likely values from the code of last class."
   ]
  },
  {
   "cell_type": "markdown",
   "metadata": {},
   "source": [
    "## Say always, I use frenquitis/Baysian, compute the likelihood with MC or Analyticaly, and the convergence algoroth say (Metropolis)"
   ]
  },
  {
   "cell_type": "markdown",
   "metadata": {},
   "source": [
    "# 3. analyticaly method to compute the likelihood  if you have low number of parameters."
   ]
  },
  {
   "cell_type": "code",
   "execution_count": 72,
   "metadata": {
    "collapsed": true
   },
   "outputs": [],
   "source": [
    "def Puxuy(ux, uy, sigma_r, sigma_h):\n",
    "    P = uy**2/(np.pi*sigma_r*sigma_h*g**2) * exp(-(R-R_0)**2/(2*sigma_r))\n",
    "    "
   ]
  },
  {
   "cell_type": "code",
   "execution_count": 87,
   "metadata": {
    "collapsed": true
   },
   "outputs": [],
   "source": [
    "def Puy(uy, sigma_h, h_0):\n",
    "    g = 10.0\n",
    "    puy = uy/(np.sqrt(2.0*np.pi)*sigma_h*g)*exp(-(uy**2/(2.0*g) - h_0)**2.0/(2.0*sigma_h**2))\n",
    "    return puy"
   ]
  },
  {
   "cell_type": "code",
   "execution_count": 88,
   "metadata": {
    "collapsed": false
   },
   "outputs": [
    {
     "data": {
      "image/png": "[encoded data removed]",
      "text/plain": [
       "<matplotlib.figure.Figure at 0x7fcbda4fb910>"
      ]
     },
     "metadata": {},
     "output_type": "display_data"
    }
   ],
   "source": [
    "uy_an = linspace(2, 6.0, 1000)\n",
    "puy_an = Puy(uy_an, 0.2, 1.0)\n",
    "plot(uy_an,puy_an)\n",
    "h1 = hist(vy_mc, bins=60, histtype='step', label='MC', normed=True)\n"
   ]
  },
  {
   "cell_type": "markdown",
   "metadata": {},
   "source": [
    "# 4. Bayesian approach"
   ]
  },
  {
   "cell_type": "code",
   "execution_count": 92,
   "metadata": {
    "collapsed": true
   },
   "outputs": [],
   "source": [
    "def Puy_bayes(u_y, sigma_h, h_0):\n",
    "    g = 10.0\n",
    "    puy = 1/(u_y)*exp(-(u_y**2/(2.0*g) - h_0)**2.0/(2.0*sigma_h**2))\n",
    "    return puy"
   ]
  },
  {
   "cell_type": "code",
   "execution_count": 108,
   "metadata": {
    "collapsed": false
   },
   "outputs": [
    {
     "data": {
      "text/plain": [
       "<matplotlib.text.Text at 0x7fcbda30dd10>"
      ]
     },
     "execution_count": 108,
     "metadata": {},
     "output_type": "execute_result"
    },
    {
     "data": {
      "image/png": "[encoded data removed]",
      "text/plain": [
       "<matplotlib.figure.Figure at 0x7fcbda2fc410>"
      ]
     },
     "metadata": {},
     "output_type": "display_data"
    }
   ],
   "source": [
    "puy_an_bayes = Puy_bayes(uy_an, 0.2, 1.0)\n",
    "I = sum(puy_an_bayes)*(uy_an[2]-uy_an[1])\n",
    "\n",
    "plot(uy_an, puy_an_bayes/I, label='Bayesian')\n",
    "plot(uy_an, puy_an, label='Frenquinstist')\n",
    "h1 = hist(vy_mc, bins=60, histtype='step', label='MC Frenquistist', normed=True)\n",
    "legend(loc='best')\n",
    "xlabel('$v_y$', fontsize=25)"
   ]
  },
  {
   "cell_type": "code",
   "execution_count": null,
   "metadata": {
    "collapsed": true
   },
   "outputs": [],
   "source": []
  }
 ],
 "metadata": {
  "kernelspec": {
   "display_name": "Python 2",
   "language": "python",
   "name": "python2"
  },
  "language_info": {
   "codemirror_mode": {
    "name": "ipython",
    "version": 2
   },
   "file_extension": ".py",
   "mimetype": "text/x-python",
   "name": "python",
   "nbconvert_exporter": "python",
   "pygments_lexer": "ipython2",
   "version": "2.7.6"
  }
 },
 "nbformat": 4,
 "nbformat_minor": 0
}
