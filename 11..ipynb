{
 "cells": [
  {
   "cell_type": "code",
   "execution_count": 1,
   "metadata": {
    "collapsed": false
   },
   "outputs": [
    {
     "name": "stdout",
     "output_type": "stream",
     "text": [
      "Populating the interactive namespace from numpy and matplotlib\n"
     ]
    }
   ],
   "source": [
    "%pylab inline\n",
    "import scipy.integrate as integrate"
   ]
  },
  {
   "cell_type": "markdown",
   "metadata": {},
   "source": [
    "N data points of single quantity. ($x_i, \\sigma_i$), $i=1,...,N$\n",
    "The errors are Gaussian. \n",
    "\n",
    "What is the distribution of $x_0, \\sigma_0$\n",
    "\n",
    "$P(model | data) = C P_{pr}(model)P(data|model)$\n",
    "\n",
    "$model = (x_0, \\sigma_0)$\n",
    "\n",
    "### What is the prior and the likelihood?\n",
    "\n",
    "Location variables (x_0) we can have constant variables, but for variables\n",
    "the prior would be $1/\\sigma_0$\n",
    "\n",
    "$P_{pr}(x_0, \\sigma_0) = \\frac{C}{\\sigma_0}$\n",
    "\n",
    "### likelihood:\n",
    "\n",
    "Let's say the data is independent (which i snot the case if you measure with the same insturment)\n",
    "\n",
    "$P(data|x_0, \\sigma_0) = \\prod_{i=1}^N P(data|x_0, \\sigma_0) $\n",
    "\n",
    "In the $lim \\sigma_0->0$\n",
    "\n",
    "$P(data_i|x,\\sigma_i=0) = \\dfrac{1}{\\sqrt{2\\pi \\sigma_i^2}}e^{-(x_i-x)^2/2\\sigma_i^2}$\n",
    "\n",
    "$\\sigma_i \\neq 0$\n",
    "\n",
    "$P(data_i|x_0,\\sigma_0) = \\int \\dfrac{dx}{\\sqrt{2\\pi \\sigma_i^2}}e^{-(x_i-x)^2/2\\sigma_i^2} \\dfrac{1}{\\sqrt{2\\pi \\sigma_0^2}}e^{-(x-x_0)^2/2\\sigma_0^2}$\n",
    "\n",
    "\n",
    "\n",
    "$P(data|x,\\sigma_0) = \\dfrac{C}{\\sigma_0^{N+1}} \\prod \\dfrac{1}{\\sigma_i} \\int e^{-(x_i-x)^2/2\\sigma_i^2-(x-x_0)^2/2\\sigma_0^2} dx $\n",
    "\n",
    "plot $\\sigma_0 vs x_0$\n",
    "\n",
    "### Example:\n",
    "\n",
    "10 data points:\n",
    "\n",
    "$x_0 =10.0$\n",
    "\n",
    "$\\sigma_0 = 1.0$\n",
    "\n",
    "$\\sigma_i = 0.1$\n",
    "\n",
    "\n"
   ]
  },
  {
   "cell_type": "code",
   "execution_count": 17,
   "metadata": {
    "collapsed": false
   },
   "outputs": [
    {
     "name": "stderr",
     "output_type": "stream",
     "text": [
      "/usr/local/lib/python2.7/dist-packages/ipykernel/__main__.py:5: DeprecationWarning: using a non-integer number instead of an integer will result in an error in the future\n"
     ]
    }
   ],
   "source": [
    "sigma_i = 0.1\n",
    "sigma_0 = 1.0\n",
    "x_0 = 10.\n",
    "N_points = 10.0\n",
    "data = np.random.normal(x_0, sigma_0, N_points)\n"
   ]
  },
  {
   "cell_type": "code",
   "execution_count": 50,
   "metadata": {
    "collapsed": true
   },
   "outputs": [],
   "source": [
    "def likelihood(x, x_i, x_0, sigma_i, sigma_0):\n",
    "    l = -((x_i-x)**2.0/(2.*sigma_i**2.0)) - ((x-x_0)**2.0/(2.*sigma_0**2.0))\n",
    "    return l"
   ]
  },
  {
   "cell_type": "code",
   "execution_count": 52,
   "metadata": {
    "collapsed": false
   },
   "outputs": [
    {
     "data": {
      "text/plain": [
       "-26.0666161702365"
      ]
     },
     "execution_count": 52,
     "metadata": {},
     "output_type": "execute_result"
    }
   ],
   "source": [
    "likelihood(10.0, data[0], x_0, sigma_i, sigma_0)\n"
   ]
  },
  {
   "cell_type": "code",
   "execution_count": 71,
   "metadata": {
    "collapsed": false
   },
   "outputs": [],
   "source": [
    "def total_likelihood(data, x_0, sigma_i, sigma_0):\n",
    "    x_i = data\n",
    "    I = np.zeros(N_points)\n",
    "    for i in range(len(data)):\n",
    "        I[i] = integrate.quad(likelihood, -16*sigma_0, 16*sigma_0, args=(x_i[i], x_0, sigma_i, sigma_0))[0] -log10(sigma_i)\n",
    "    return sum(I)"
   ]
  },
  {
   "cell_type": "code",
   "execution_count": 72,
   "metadata": {
    "collapsed": false
   },
   "outputs": [
    {
     "name": "stderr",
     "output_type": "stream",
     "text": [
      "/usr/local/lib/python2.7/dist-packages/ipykernel/__main__.py:3: DeprecationWarning: using a non-integer number instead of an integer will result in an error in the future\n",
      "  app.launch_new_instance()\n"
     ]
    },
    {
     "data": {
      "text/plain": [
       "-2978353.5110311517"
      ]
     },
     "execution_count": 72,
     "metadata": {},
     "output_type": "execute_result"
    }
   ],
   "source": [
    "total_likelihood(data, x_0, sigma_i, sigma_0)"
   ]
  },
  {
   "cell_type": "code",
   "execution_count": 73,
   "metadata": {
    "collapsed": false
   },
   "outputs": [
    {
     "name": "stderr",
     "output_type": "stream",
     "text": [
      "/usr/local/lib/python2.7/dist-packages/ipykernel/__main__.py:3: DeprecationWarning: using a non-integer number instead of an integer will result in an error in the future\n",
      "  app.launch_new_instance()\n"
     ]
    }
   ],
   "source": [
    "Sigma_0 = np.linspace(0.5, 1.5, 100)\n",
    "X_0 = np.linspace(5, 15, 100)\n",
    "P = np.zeros((len(Sigma_0), len(X_0)))\n",
    "for i in range(len(Sigma_0)):\n",
    "    for j in range(len(X_0)):\n",
    "        P[i][j] = total_likelihood(data, X_0[j], sigma_i, Sigma_0[i])/Sigma_0[i]**(N_points+1)\n"
   ]
  },
  {
   "cell_type": "code",
   "execution_count": 59,
   "metadata": {
    "collapsed": false
   },
   "outputs": [
    {
     "name": "stdout",
     "output_type": "stream",
     "text": [
      "[[ -2.00124776e+09  -2.00191642e+09  -2.00259846e+09 ...,  -2.12837462e+09\n",
      "   -2.13034050e+09  -2.13231976e+09]\n",
      " [ -1.64962552e+09  -1.65015151e+09  -1.65068802e+09 ...,  -1.74962626e+09\n",
      "   -1.75117266e+09  -1.75272959e+09]\n",
      " [ -1.36528184e+09  -1.36569755e+09  -1.36612156e+09 ...,  -1.44431566e+09\n",
      "   -1.44553784e+09  -1.44676832e+09]\n",
      " ..., \n",
      " [ -9.11300401e+04  -9.11315206e+04  -9.11330308e+04 ...,  -9.14115205e+04\n",
      "   -9.14158733e+04  -9.14202557e+04]\n",
      " [ -8.58962824e+04  -8.58976469e+04  -8.58990386e+04 ...,  -8.61556976e+04\n",
      "   -8.61597092e+04  -8.61637481e+04]\n",
      " [ -8.09988403e+04  -8.10000985e+04  -8.10013819e+04 ...,  -8.12380519e+04\n",
      "   -8.12417511e+04  -8.12454754e+04]]\n"
     ]
    }
   ],
   "source": [
    "print P"
   ]
  },
  {
   "cell_type": "code",
   "execution_count": 74,
   "metadata": {
    "collapsed": false
   },
   "outputs": [
    {
     "data": {
      "text/plain": [
       "<matplotlib.colorbar.Colorbar instance at 0x7f9c1aa4de60>"
      ]
     },
     "execution_count": 74,
     "metadata": {},
     "output_type": "execute_result"
    },
    {
     "data": {
      "image/png": "[encoded data removed]",
      "text/plain": [
       "<matplotlib.figure.Figure at 0x7f9c1af08650>"
      ]
     },
     "metadata": {},
     "output_type": "display_data"
    }
   ],
   "source": [
    "contour(Sigma_0, X_0, np.exp(P-np.max(P)))\n",
    "colorbar()"
   ]
  },
  {
   "cell_type": "code",
   "execution_count": 70,
   "metadata": {
    "collapsed": false
   },
   "outputs": [
    {
     "data": {
      "text/plain": [
       "<matplotlib.image.AxesImage at 0x7f9c1abfd8d0>"
      ]
     },
     "execution_count": 70,
     "metadata": {},
     "output_type": "execute_result"
    },
    {
     "data": {
      "image/png": "[encoded data removed]",
      "text/plain": [
       "<matplotlib.figure.Figure at 0x7f9c1b0cee90>"
      ]
     },
     "metadata": {},
     "output_type": "display_data"
    }
   ],
   "source": [
    "imshow(P)"
   ]
  },
  {
   "cell_type": "markdown",
   "metadata": {},
   "source": [
    "# Outliers\n",
    "\n"
   ]
  },
  {
   "cell_type": "markdown",
   "metadata": {},
   "source": [
    "Never remove data that is far in the wings of your distribution.\n",
    "\n",
    "N data points, $x_i$, $\\sigma_i$\n",
    "\n",
    "My model is going to be a Gaussian distribution $x_m, \\sigma_m$\n",
    "\n",
    "outlier distribution $x_{out}, \\sigma_{out}$ (Make the assumption that this distribution is a Gaussian)\n",
    "\n",
    "$q_i$ binary flag: $1=model, 0=outlier$\n",
    "    \n",
    "$P_b:$ Add a likelihood of a point being bad. What is the length of the information with what you start and what are the amount of\n",
    "    information that you end up with. This mode give you N+5 parameters (2model, 2outlier, N(q), P_b)"
   ]
  },
  {
   "cell_type": "markdown",
   "metadata": {},
   "source": [
    "$P(model|data) = CP_{pr}(model)P(data|model)$\n",
    "\n",
    "$P(data|model) = \\prod P(data_i|model)$\n",
    "\n",
    "$ P(data_i|model)$ if $q=1$ $ = \\int \\dfrac{dx}{\\sqrt{2\\pi \\sigma_i^2}}e^{-(x_i-x)^2/2\\sigma_i^2} \\dfrac{1}{\\sqrt{2\\pi \\sigma_m^2}}e^{-(x-x_m)^2/2\\sigma_m^2}$\n",
    "\n",
    "if $q=0$\n",
    "\n",
    "$= \\int \\dfrac{dx}{\\sqrt{2\\pi \\sigma_i^2}}e^{-(x_i-x)^2/2\\sigma_i^2} \\dfrac{1}{\\sqrt{2\\pi \\sigma_{out}^2}}e^{-(x-x_{out})^2/2\\sigma_{out}^2}$\n",
    "\n",
    "\n",
    "\n",
    "$P(data|model) = \\left[\\int \\dfrac{dx}{\\sqrt{2\\pi \\sigma_i^2}}e^{-(x_i-x)^2/2\\sigma_i^2} \\dfrac{1}{\\sqrt{2\\pi \\sigma_m^2}}e^{-(x-x_m)^2/2\\sigma_m^2}  \\right]^{q_i} \\left[\\int \\dfrac{dx}{\\sqrt{2\\pi \\sigma_i^2}}e^{-(x_i-x)^2/2\\sigma_i^2} \\dfrac{1}{\\sqrt{2\\pi \\sigma_{out}^2}}e^{-(x-x_{out})^2/2\\sigma_{out}^2}\\right]^{1-q_i}$\n",
    "\n",
    "### Prior:\n",
    "\n",
    "$P_{pr}(model) = \\dfrac{C}{\\sigma_m \\sigma_{out}}P(q_i)$\n",
    "\n",
    "$P(q_i)= \\prod (1-P_b)^q_i P_b^{1-q_i}$\n",
    "\n",
    "### what parameter do we care?\n",
    "\n",
    "$P(x_m, \\sigma_m, x_{out}, \\sigma_{out}, P_b|data) = \\frac{C}{\\sigma_m \\sigma_{out}}\\sum_{q_1=0,1} P(q_i)P(data|model) = \\frac{C}{\\sigma_m \\sigma_{out}} \\prod_{1=1}^N \\left( (1-P_b)/2\\pi \\sigma_i A + P_b/2\\pi \\sigma_i B \\right)  $"
   ]
  },
  {
   "cell_type": "code",
   "execution_count": null,
   "metadata": {
    "collapsed": true
   },
   "outputs": [],
   "source": []
  }
 ],
 "metadata": {
  "kernelspec": {
   "display_name": "Python 2",
   "language": "python",
   "name": "python2"
  },
  "language_info": {
   "codemirror_mode": {
    "name": "ipython",
    "version": 2
   },
   "file_extension": ".py",
   "mimetype": "text/x-python",
   "name": "python",
   "nbconvert_exporter": "python",
   "pygments_lexer": "ipython2",
   "version": "2.7.6"
  }
 },
 "nbformat": 4,
 "nbformat_minor": 0
}
