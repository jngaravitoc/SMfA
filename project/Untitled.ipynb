{
 "cells": [
  {
   "cell_type": "code",
   "execution_count": 10,
   "metadata": {
    "collapsed": false
   },
   "outputs": [
    {
     "name": "stdout",
     "output_type": "stream",
     "text": [
      "Populating the interactive namespace from numpy and matplotlib\n"
     ]
    }
   ],
   "source": [
    "import numpy as np\n",
    "import matplotlib.pyplot as plt\n",
    "from scipy import integrate\n",
    "%pylab inline"
   ]
  },
  {
   "cell_type": "code",
   "execution_count": 180,
   "metadata": {
    "collapsed": true
   },
   "outputs": [],
   "source": [
    "def integrand(z, Omega_m, Omega_L):\n",
    "    return ((1.0+z)**2.0*(1.0+Omega_m*z) - z*(2.0+z)*Omega_L)**-0.5\n",
    "    \n",
    "def luminsity_D(H_0, z, Omega_m, Omega_L):\n",
    "    c = 2.99E5\n",
    "    k = 1 - Omega_m - Omega_L\n",
    "    integral = integrate.quad(integrand, 0, z, args=(Omega_m, Omega_L))[0]\n",
    "    if k>=0:\n",
    "        D_L = c*(1+z)/(H_0 * np.sqrt(np.abs(k))) * np.sinh(np.sqrt(np.abs(k))*integral)\n",
    "    elif k<0:\n",
    "        D_L = c*(1+z)/(H_0 * np.sqrt(np.abs(k))) * np.sin(np.sqrt(np.abs(k))*integral)\n",
    "    return D_L\n",
    "\n",
    "def mu_p(D_L):\n",
    "    return 5.0*np.log10(D_L) + 25.0"
   ]
  },
  {
   "cell_type": "code",
   "execution_count": 105,
   "metadata": {
    "collapsed": false
   },
   "outputs": [
    {
     "data": {
      "text/plain": [
       "(0.6966102939360831, 7.733927875187374e-15)"
      ]
     },
     "execution_count": 105,
     "metadata": {},
     "output_type": "execute_result"
    }
   ],
   "source": [
    "integrate.quad(integrand, 0, 1, args=(0.5, 0.5))"
   ]
  },
  {
   "cell_type": "code",
   "execution_count": 187,
   "metadata": {
    "collapsed": true
   },
   "outputs": [],
   "source": [
    "Omega_m_t = np.linspace(0, 2.5, 20)\n",
    "Omega_L_t = np.linspace(-1, 3, 20)"
   ]
  },
  {
   "cell_type": "code",
   "execution_count": 184,
   "metadata": {
    "collapsed": false
   },
   "outputs": [],
   "source": [
    "def grid(Omega_m_t, Omega_L_t, z, m_obs, sigma_z, sigma_mu):\n",
    "    xi_z = np.zeros(len(z))\n",
    "    xis = np.zeros((len(Omega_m_t),len(Omega_L_t)))\n",
    "    for i in range(len(Omega_m_t)):\n",
    "        for j in range(len(Omega_L_t)):\n",
    "            for k in range(len(z)):\n",
    "                Omega_K = 1 - Omega_m_t[i] - Omega_L_t[j]\n",
    "                Dl = integrate.quad(luminsity_D, -inf, inf ,args=(z[k], Omega_m_t[i], Omega_L_t[j]))[0]\n",
    "                m_teo = mu_p(Dl)\n",
    "                xi_z[k] =  (m_teo - m_obs[k])**2.0/(sigma_z[k]**2.0 + sigma_mu[k]**2.0)\n",
    "            xis[i][j] = sum(xi_z)\n",
    "    return xis"
   ]
  },
  {
   "cell_type": "code",
   "execution_count": 185,
   "metadata": {
    "collapsed": false
   },
   "outputs": [],
   "source": [
    "obs_data = loadtxt('Campbell_data_clean.txt')\n",
    "z = obs_data[:,0]\n",
    "z_err = obs_data[:,1]\n",
    "mu = obs_data[:,2]\n",
    "mu_err = obs_data[:,3]"
   ]
  },
  {
   "cell_type": "code",
   "execution_count": 126,
   "metadata": {
    "collapsed": false
   },
   "outputs": [
    {
     "name": "stdout",
     "output_type": "stream",
     "text": [
      "3.056789999999999785e-01  2.979999999999999929e-05  4.121289999999999765e+01  2.190439999999999887e-01  1.000999999999999979e+01  2.600000000000000089e-01  -3.955440000000000345e-02  4.528760000000000008e-01  -1.054959999999999987e+01  1.021849999999999925e+00  8.626690500000000483e+00  4.131859999999999700e-02\r\n"
     ]
    }
   ],
   "source": [
    "!head -1 Campbell_data_clean.txt"
   ]
  },
  {
   "cell_type": "code",
   "execution_count": null,
   "metadata": {
    "collapsed": false
   },
   "outputs": [
    {
     "name": "stderr",
     "output_type": "stream",
     "text": [
      "/usr/local/lib/python2.7/dist-packages/ipykernel/__main__.py:15: RuntimeWarning: divide by zero encountered in log10\n",
      "/usr/local/lib/python2.7/dist-packages/ipykernel/__main__.py:2: RuntimeWarning: invalid value encountered in double_scalars\n",
      "  from ipykernel import kernelapp as app\n"
     ]
    }
   ],
   "source": [
    "xis_test = grid(Omega_m_t, Omega_L_t, z, mu, z_err, mu_err)"
   ]
  },
  {
   "cell_type": "code",
   "execution_count": null,
   "metadata": {
    "collapsed": false
   },
   "outputs": [],
   "source": [
    "imshow(xis_test.T, origin='lower', extent=[min(Omega_m_t), max(Omega_m_t), min(Omega_L_t), max(Omega_L_t)])"
   ]
  },
  {
   "cell_type": "code",
   "execution_count": 174,
   "metadata": {
    "collapsed": false
   },
   "outputs": [
    {
     "name": "stdout",
     "output_type": "stream",
     "text": [
      "2073.92792597\n"
     ]
    }
   ],
   "source": [
    "norm = np.abs(np.nanmin(xis_test))\n",
    "Post = np.exp(-xis_test.T/(2.0*norm))\n",
    "print norm"
   ]
  },
  {
   "cell_type": "code",
   "execution_count": 175,
   "metadata": {
    "collapsed": false
   },
   "outputs": [
    {
     "data": {
      "text/plain": [
       "<matplotlib.image.AxesImage at 0x7f89dd4be2d0>"
      ]
     },
     "execution_count": 175,
     "metadata": {},
     "output_type": "execute_result"
    },
    {
     "data": {
      "image/png": "[encoded data removed]",
      "text/plain": [
       "<matplotlib.figure.Figure at 0x7f89dd5ae250>"
      ]
     },
     "metadata": {},
     "output_type": "display_data"
    }
   ],
   "source": [
    "imshow(Post, origin='lower', extent=[min(Omega_m_t), max(Omega_m_t), min(Omega_L_t), max(Omega_L_t)])"
   ]
  },
  {
   "cell_type": "code",
   "execution_count": 179,
   "metadata": {
    "collapsed": false
   },
   "outputs": [
    {
     "name": "stdout",
     "output_type": "stream",
     "text": [
      "[14] [0]\n",
      "[ 0.71428571]\n",
      "[-1.]\n"
     ]
    }
   ],
   "source": [
    "index = np.where(Post==np.nanmax(Post))\n",
    "print index[0], index[1]\n",
    "print Omega_m_t[index[0]]\n",
    "print Omega_L_t[index[1]]"
   ]
  },
  {
   "cell_type": "code",
   "execution_count": 86,
   "metadata": {
    "collapsed": true
   },
   "outputs": [],
   "source": [
    "#test 60.058594 0.004883 -0.742188 6.281697 \n"
   ]
  },
  {
   "cell_type": "code",
   "execution_count": 108,
   "metadata": {
    "collapsed": false
   },
   "outputs": [
    {
     "name": "stdout",
     "output_type": "stream",
     "text": [
      "[[ 6.26488079]]\n"
     ]
    }
   ],
   "source": [
    "xi_test = grid(np.array([0.004883]), np.array([-0.742188]), z, mu, z_err, mu_err)\n",
    "print xi_test/(len(z)-3.)"
   ]
  },
  {
   "cell_type": "code",
   "execution_count": 109,
   "metadata": {
    "collapsed": false
   },
   "outputs": [
    {
     "name": "stdout",
     "output_type": "stream",
     "text": [
      "[[ 6.29311452]]\n"
     ]
    }
   ],
   "source": [
    "xi_test = grid(np.array([0.004883]), np.array([-0.734375]), z, mu, z_err, mu_err)\n",
    "print xi_test/(len(z)-3.)"
   ]
  },
  {
   "cell_type": "code",
   "execution_count": 73,
   "metadata": {
    "collapsed": false
   },
   "outputs": [
    {
     "name": "stdout",
     "output_type": "stream",
     "text": [
      "(array([55]), array([99]))\n"
     ]
    }
   ],
   "source": [
    "print index"
   ]
  },
  {
   "cell_type": "code",
   "execution_count": 74,
   "metadata": {
    "collapsed": false
   },
   "outputs": [
    {
     "data": {
      "text/plain": [
       "58288.636750070356"
      ]
     },
     "execution_count": 74,
     "metadata": {},
     "output_type": "execute_result"
    }
   ],
   "source": [
    "np.nanmin(xis_test)"
   ]
  },
  {
   "cell_type": "code",
   "execution_count": null,
   "metadata": {
    "collapsed": true
   },
   "outputs": [],
   "source": []
  }
 ],
 "metadata": {
  "kernelspec": {
   "display_name": "Python 2",
   "language": "python",
   "name": "python2"
  },
  "language_info": {
   "codemirror_mode": {
    "name": "ipython",
    "version": 2
   },
   "file_extension": ".py",
   "mimetype": "text/x-python",
   "name": "python",
   "nbconvert_exporter": "python",
   "pygments_lexer": "ipython2",
   "version": "2.7.6"
  }
 },
 "nbformat": 4,
 "nbformat_minor": 0
}
