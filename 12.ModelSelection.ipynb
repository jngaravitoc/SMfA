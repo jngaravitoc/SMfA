{
 "cells": [
  {
   "cell_type": "markdown",
   "metadata": {},
   "source": [
    "## Model Selection.\n",
    "\n",
    "We have diferent models and we would like to know which one discribe better our data. \n",
    "We are going to use the Frequentist and Bayesian approach."
   ]
  },
  {
   "cell_type": "markdown",
   "metadata": {},
   "source": [
    "## Frenquentist\n",
    "\n",
    "If you want to use this model its beacuse you have measured a lot of times.\n",
    "\n",
    "For this we would use $\\chi^2$ method.\n",
    "\n",
    "IF you have to different distirbution of $\\chi^2$  from two different models how you would pick which one is the best model. \n",
    "\n",
    "Having the smallest $\\chi^2$ doesn't mean that you have the best model (e.g your fit can imporve if you high order polynomiun but this doesn't mean that the model would be better.)\n",
    "\n",
    "### F test\n",
    "\n",
    "\\begin{equation}\n",
    "F = \\dfrac{\\chi^2 (m) - \\chi^2(m+1)}{\\chi^2(m)/(N-m+1)}\n",
    "\\end{equation}\n",
    "\n",
    "$m:$ # of parameters\n",
    "$N:$ # of data points\n",
    "\n",
    "Nested models.\n",
    "\n",
    "Then you make a good distribution of your $F$ values, and used when the models have one diferent in the number of parameters.\n",
    "\n",
    "Also the model with $m$ parameters doens't have to be a boundary of the model of the $m+1$ parameter model.\n",
    "\n",
    "See : http://adsabs.harvard.edu/abs/2002ApJ...571..545P\n",
    "\n",
    "dont used when:\n",
    "\n",
    "-There are not nested models\n",
    "-The models doenst have a different of one in $m$\n",
    "-The model with $m$ parameters doens't have to be a boundary of the model of the $m+1$ parameter model\n",
    "\n",
    "# Bayesian \n",
    "\n",
    "## Information criteria \n",
    "\n",
    "AIC: Akaike information criteria (http://www.unt.edu/rss/class/Jon/MiscDocs/Akaike_1974.pdf)\n",
    "BIC: Bayesian information criteria\n",
    "\n",
    "If i have a given bayesian model and I would like to ask what is the relaive osteiror likelihood of each model. \n",
    "\n",
    "\n",
    "AIC: $-2Ln L_{max} + 2k$\n",
    "\n",
    "$k: $ model parameters\n",
    "$L_{max}: $ The maximum of the Likelihood\n",
    "\n",
    "You have a number of models, you find the likelihood of those models, ou get the most likely velues of that models and you compute AIC for each model. \n",
    "\n",
    "If the AIC is small the models is best.\n",
    " \n",
    "| $\\Delta AIC$ | |\n",
    "|-----|-----|\n",
    "|<2 | inconclusive |\n",
    "|2-6 | Positive evidence|\n",
    "|6-10 | strong|\n",
    "|>10 | Very strong evidence|\n",
    "\n",
    "\n",
    "The information entropy of the posterior \n",
    "\n",
    "$H_{post} = \\sum P(model|data)ln([P(model|data)])$\n",
    "\n",
    "$H_{prior} = \\sum P_{pr}(model)ln([P_{pr}(model)])$\n",
    "\n",
    "You would like the model tha maximize the amount of information, this is the one they maximize $H_{post}$\n",
    "\n",
    "Kullback-Leibler\n",
    "\n",
    "$D_{KL} = \\sum_{model} P(model|data) Ln \\left[ \\dfrac{P(model|data)}{P_{pr}(model)} \\right]$\n"
   ]
  },
  {
   "cell_type": "code",
   "execution_count": 1,
   "metadata": {
    "collapsed": false
   },
   "outputs": [
    {
     "name": "stdout",
     "output_type": "stream",
     "text": [
      "Populating the interactive namespace from numpy and matplotlib\n"
     ]
    }
   ],
   "source": [
    "%pylab inline"
   ]
  },
  {
   "cell_type": "code",
   "execution_count": 2,
   "metadata": {
    "collapsed": false
   },
   "outputs": [],
   "source": [
    "# Ansombe's quartert\n",
    "\n",
    "x1 = np.array([10.0, 8.0, 13.0, 9.0, 11.0, 14.0, 6.0, 4.0, 12.0, 7.0, 5.0])\n",
    "y1 = np.array([8.04, 6.95, 7.58, 8.81, 8.33, 9.96, 7.24, 4.26, 10.84, 4.82, 5.68])\n",
    "\n",
    "x2 = x1\n",
    "y2 = np.array([9.14, 8.14, 8.74,8.77, 9.26, 8.1, 6.13, 3.1, 9.13, 7.26, 4.74])\n"
   ]
  },
  {
   "cell_type": "code",
   "execution_count": 3,
   "metadata": {
    "collapsed": false
   },
   "outputs": [
    {
     "data": {
      "text/plain": [
       "<matplotlib.collections.PathCollection at 0x7f53eeda9250>"
      ]
     },
     "execution_count": 3,
     "metadata": {},
     "output_type": "execute_result"
    },
    {
     "data": {
      "image/png": "[encoded data removed]",
      "text/plain": [
       "<matplotlib.figure.Figure at 0x7f53eeeecc10>"
      ]
     },
     "metadata": {},
     "output_type": "display_data"
    }
   ],
   "source": [
    "figure(figsize=(12,6))\n",
    "subplot(1, 2, 1)\n",
    "scatter(x1, y1)\n",
    "subplot(1, 2, 2)\n",
    "scatter(x2, y2)"
   ]
  },
  {
   "cell_type": "code",
   "execution_count": 4,
   "metadata": {
    "collapsed": false
   },
   "outputs": [],
   "source": [
    "def likelihood1(x_i, y_i, a, b, sigma):\n",
    "    L = -0.5 * np.sum((y_i - a - b*x_i)**2.0/(sigma**2.0))\n",
    "    return L    \n",
    "\n",
    "def likelihood2(x_i, y_i, a, b, c, sigma):\n",
    "    L = -0.5 * np.sum((y_i - a - b*x_i - c*x_i**2.0)**2.0/(sigma**2.0))\n",
    "    return L"
   ]
  },
  {
   "cell_type": "code",
   "execution_count": 5,
   "metadata": {
    "collapsed": true
   },
   "outputs": [],
   "source": [
    "def AIC(k, L_max):\n",
    "    return 2*log(L_max) + 2*k"
   ]
  },
  {
   "cell_type": "code",
   "execution_count": 6,
   "metadata": {
    "collapsed": false
   },
   "outputs": [],
   "source": [
    "a1 = np.linspace(2, 4, 100)\n",
    "b1 = np.linspace(0.3, 0.8, 100)\n",
    "\n",
    "L1 = np.zeros((len(a1), len(b1)))\n",
    "L2 = np.zeros((len(a1), len(b1)))\n"
   ]
  },
  {
   "cell_type": "code",
   "execution_count": 7,
   "metadata": {
    "collapsed": false
   },
   "outputs": [],
   "source": [
    "for i in range(len(a1)):\n",
    "    for j in range(len(b1)):\n",
    "        L1[i][j] = likelihood1(x1, y1, a1[i], b1[j], 1.0)\n",
    "        \n",
    "        \n",
    "for i in range(len(a1)):\n",
    "    for j in range(len(b1)):\n",
    "        L2[i][j] = likelihood1(x2, y2, a1[i], b1[j], 1.0)"
   ]
  },
  {
   "cell_type": "code",
   "execution_count": 8,
   "metadata": {
    "collapsed": false
   },
   "outputs": [
    {
     "name": "stdout",
     "output_type": "stream",
     "text": [
      "-6.88183260382\n",
      "-6.88865280584\n"
     ]
    }
   ],
   "source": [
    "print np.max(L1)\n",
    "print np.max(L2)"
   ]
  },
  {
   "cell_type": "code",
   "execution_count": 10,
   "metadata": {
    "collapsed": false
   },
   "outputs": [
    {
     "name": "stdout",
     "output_type": "stream",
     "text": [
      "[ 2.98989899] [ 0.5020202]\n"
     ]
    }
   ],
   "source": [
    "index1 = np.where(L1 == np.max(L1))\n",
    "a1_best = a1[index1[0]]\n",
    "b1_best = b1[index1[1]]\n",
    "\n",
    "print a1_best, b1_best"
   ]
  },
  {
   "cell_type": "code",
   "execution_count": 12,
   "metadata": {
    "collapsed": false
   },
   "outputs": [
    {
     "name": "stdout",
     "output_type": "stream",
     "text": [
      "-2.85882466893\n",
      "-15.7772820608\n"
     ]
    }
   ],
   "source": [
    "l2_best = likelihood2(x1, y1, 0.75507, 1.0693, -0.03162, 1.0) \n",
    "l3_best = likelihood2(x2, y2, -5.996, 2.7808, -0.12671, 1.0)\n",
    "\n",
    "aic1_m1 = AIC(2, np.exp(np.max(L1))) # Linear model to linear data\n",
    "aic2_m1 = AIC(2, np.exp(np.max(L2))) # Linear model to cuadratic data\n",
    "\n",
    "aic1_m2 = AIC(3, (np.exp(l2_best))) # Cuadratic model to linear data\n",
    "aic2_m2 = AIC(3, (np.exp(l3_best))) # Cuadratic model to cuadratic data\n",
    "\n",
    "\n",
    "#print aic1, aic2\n",
    "\n",
    "print aic1_m1 - aic1_m2\n",
    "\n",
    "print aic2_m1 - aic2_m2\n",
    "\n"
   ]
  },
  {
   "cell_type": "markdown",
   "metadata": {},
   "source": [
    "# Bayesian Evidence (BIC) (http://projecteuclid.org/euclid.aos/1176344136)\n",
    "\n",
    "Model parameter $i=(1, 2)$ \n",
    "\n",
    "$i=1$ Linear\n",
    "\n",
    "$i=2$ Cuadratic\n",
    "\n",
    "$P(i, a, b, c | data) = P_{pr}(i, a, b, c)P(data|model)$\n",
    "\n",
    "$P_{pr}(i, a, b, c) = \\dfrac{C}{b} \\dfrac{1}{\\sqrt(c)}$\n",
    "\n",
    "\n",
    "$P(data|model) = \\left( \\prod \\dfrac{1}{\\sqrt{2\\pi \\sigma_i^2}} \\right) exp(-\\dfrac{1}{2} \\sum(y_i-a-bx_i-c x_i^2)^2/ \\sigma_i^2)$\n",
    "\n",
    "\n",
    "$P(data|model) = \\left( \\prod \\dfrac{1}{\\sqrt{2\\pi \\sigma_i^2}} \\right) exp(-\\dfrac{1}{2} \\sum(y_i-a-bx_i)^2/ \\sigma_i^2)$\n",
    "\n",
    "\n",
    "$BE_i = \\int\\int \\int P(i, a, b, c | data)da db dc$\n",
    "\n",
    "Odds ratio:\n",
    "\n",
    "$\\dfrac{BE_i}{BE_j} = \\dfrac{\\int\\int\\int P(i, a, b, c | data)da db dc}{\\int\\int \\int P(j, a, b, c | data)da db dc}$\n",
    "\n",
    "\n",
    "$BIC =  - 2 ln L_{max} + K ln N$\n",
    "\n",
    "$K: $ # of model parameters\n",
    "\n",
    "$N: $ # of data models\n",
    "\n"
   ]
  },
  {
   "cell_type": "code",
   "execution_count": null,
   "metadata": {
    "collapsed": true
   },
   "outputs": [],
   "source": []
  }
 ],
 "metadata": {
  "kernelspec": {
   "display_name": "Python 2",
   "language": "python",
   "name": "python2"
  },
  "language_info": {
   "codemirror_mode": {
    "name": "ipython",
    "version": 2
   },
   "file_extension": ".py",
   "mimetype": "text/x-python",
   "name": "python",
   "nbconvert_exporter": "python",
   "pygments_lexer": "ipython2",
   "version": "2.7.6"
  }
 },
 "nbformat": 4,
 "nbformat_minor": 0
}
