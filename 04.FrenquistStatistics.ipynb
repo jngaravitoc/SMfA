{
 "cells": [
  {
   "cell_type": "markdown",
   "metadata": {},
   "source": [
    "## Confidence Intervals\n",
    "\n",
    "Frequetist: If you repeat something many times, and you compute the frequency of a current event. \n",
    "\n",
    "You compute the probrability density function $P(x)$, we want to describe the full probability, you can also compute the moments or the confidence intervals. \n",
    "\n",
    "$P(x_0 - \\epsilon_-) = P(x_0 + \\epsilon_+)$\n",
    "\n",
    "$\\int_{x_0 - \\epsilon_-}^{x_0 + \\epsilon_+}P(x) dx = f$, where $f$ is your cinfdence interval. \n",
    "\n",
    "In terms of the Heaviside function:\n",
    "\n",
    "We are going to use this form:\n",
    "\n",
    "$\\int_{-\\infty}^{\\infty} P(x)H\\left[P(x) - P(x_0 + \\epsilon_+)\\right]dx = f$\n",
    "\n",
    "If the distribution function it's totally symmetric\n",
    "\n",
    "$\\int_{x_0 - \\epsilon}^{x_0 + \\epsilon}P(x) dx = f$\n",
    "\n",
    "Often people use $\\sigma$ to describe the confident interval, when people say this they are assuming a gaussian distribution.\n",
    "\n"
   ]
  },
  {
   "cell_type": "markdown",
   "metadata": {},
   "source": [
    "$x_i = -N + 2\\frac{i-1}{M-1}N$\n",
    "\n",
    "Te integral will be:\n",
    "\n",
    "$\\frac{1}{\\sqrt{2 \\pi}} \\sum_{i=1}^{M-1} \\dfrac{1}{2} \\left[g(x'_i) + g(x'_{i+1}) \\right] \\Delta x'$\n",
    "\n",
    "\n",
    "$\\frac{\\Delta x}{\\sqrt{2 \\pi}} \\sum_{i=2}^{M-1} g(x_i')$\n",
    "\n",
    "\n",
    "For our particular example it would be:\n",
    "\n",
    "$f(N\\sigma) = \\frac{\\Delta x}{\\sqrt{2 \\pi}} \\left[\\dfrac{1}{2}g(x_1) +  \\sum_{i=2}^{M-1} g(x_i') + \\dfrac{1}{2}g(x_M)\\right]$\n",
    "\n",
    "$x_i = -N + 2\\dfrac{i-1}{M-1}N$\n",
    "\n",
    "$\\Delta x_i = \\dfrac{2N}{M-1}$\n"
   ]
  },
  {
   "cell_type": "code",
   "execution_count": 1,
   "metadata": {
    "collapsed": false
   },
   "outputs": [
    {
     "name": "stdout",
     "output_type": "stream",
     "text": [
      "Populating the interactive namespace from numpy and matplotlib\n"
     ]
    }
   ],
   "source": [
    "%pylab inline"
   ]
  },
  {
   "cell_type": "code",
   "execution_count": 2,
   "metadata": {
    "collapsed": false
   },
   "outputs": [],
   "source": [
    "def xi(N, M, i):\n",
    "    x = -N + 2.0*(i-1)/(M-1)*N\n",
    "    return x\n",
    "\n",
    "def Dxi(N, M):\n",
    "    dxi = 2.0*N/(float(M)-1)\n",
    "    return dxi\n",
    "    \n",
    "def g(x):\n",
    "    return exp(-x**2.0/2.0)\n",
    "    \n",
    "def Int(N, M):\n",
    "    deltax = Dxi(N, M)\n",
    "    xx = np.zeros(M)\n",
    "    for i in range(M):\n",
    "        xx[i] = xi(N, M, i)\n",
    "    f = deltax / (np.sqrt(2.0*np.pi)) * (0.5*g(xx[0]) + sum(g(xx[1:-2])) + 0.5*g(xx[-1]))\n",
    "    return f\n",
    "    "
   ]
  },
  {
   "cell_type": "code",
   "execution_count": 3,
   "metadata": {
    "collapsed": false
   },
   "outputs": [
    {
     "name": "stdout",
     "output_type": "stream",
     "text": [
      "0.682571130742\n",
      "0.954446671111\n",
      "0.997293619776\n",
      "0.999936389565\n",
      "0.999999422925\n"
     ]
    }
   ],
   "source": [
    "print Int(1, 4096)\n",
    "print Int(2, 4096)\n",
    "print Int(3, 4096)\n",
    "print Int(4, 4096)\n",
    "print Int(5, 4096)"
   ]
  },
  {
   "cell_type": "code",
   "execution_count": 4,
   "metadata": {
    "collapsed": false
   },
   "outputs": [],
   "source": [
    "p = np.zeros(10)\n",
    "M = np.zeros(10)\n",
    "for i in range(10000, 10):\n",
    "    print i\n",
    "    p[i] = 1.0 - Int(3, i+3)\n",
    "    M[i] = i+2"
   ]
  },
  {
   "cell_type": "code",
   "execution_count": 5,
   "metadata": {
    "collapsed": false
   },
   "outputs": [
    {
     "data": {
      "image/png": "[encoded data removed]",
      "text/plain": [
       "<matplotlib.figure.Figure at 0x7f7bcf6920d0>"
      ]
     },
     "metadata": {},
     "output_type": "display_data"
    }
   ],
   "source": [
    "gauss = np.random.normal(5, 0.1, 40000)\n",
    "h = hist(gauss, bins=40, histtype='step', lw=3, normed=True)"
   ]
  },
  {
   "cell_type": "code",
   "execution_count": 6,
   "metadata": {
    "collapsed": false
   },
   "outputs": [
    {
     "name": "stdout",
     "output_type": "stream",
     "text": [
      "40 41\n"
     ]
    }
   ],
   "source": [
    "print len(h[0]), len(h[1])"
   ]
  },
  {
   "cell_type": "code",
   "execution_count": 7,
   "metadata": {
    "collapsed": false
   },
   "outputs": [
    {
     "name": "stdout",
     "output_type": "stream",
     "text": [
      "3.98498168872\n"
     ]
    }
   ],
   "source": [
    "Pmax = max(h[0])\n",
    "print Pmax"
   ]
  },
  {
   "cell_type": "code",
   "execution_count": 8,
   "metadata": {
    "collapsed": true
   },
   "outputs": [],
   "source": [
    "# Now from the histogram to the integral\n",
    "\n",
    "def yi(ymin, ymax, M, i):\n",
    "    y = ymin + (i-1.0)/(M-1.0) * (ymax - ymin)\n",
    "    return y\n",
    "\n",
    "def delta_y(ymax, ymin, M):\n",
    "    dy = ymax-ymin/(M-1.0)\n",
    "    return dy\n",
    "\n",
    "def Pj(Pmax, k, j):\n",
    "    pj = (j-1.0)/(k-1.0) * Pmax\n",
    "    return pj\n",
    "\n",
    "def Cj(L, ymax, ymin, K):\n",
    "    Pmax = max(L[0])\n",
    "    M = len(L[1])\n",
    "    P_grid = np.zeros(K)\n",
    "\n",
    "    for j in range(0, int(K)):\n",
    "        P_grid[j] = Pj(Pmax,K, j+1)\n",
    "    \n",
    "    ddj = delta_y(ymax, ymin, M)\n",
    "    H = np.zeros(M)\n",
    "    cj = np.zeros(K)\n",
    "    for j in range(K):\n",
    "        for i in range(M):\n",
    "            yii = yi(ymin, ymax, M, i)\n",
    "            if L[0][yii]>Pj[Pmax,K, j ]:\n",
    "                H[i] = L[i]\n",
    "            else:\n",
    "                H[i] = 0\n",
    "        cj[j] = sum(H[2:-2])* delta_y\n",
    "    return cj\n",
    "    "
   ]
  },
  {
   "cell_type": "code",
   "execution_count": 12,
   "metadata": {
    "collapsed": false
   },
   "outputs": [
    {
     "name": "stdout",
     "output_type": "stream",
     "text": [
      "4.60232023202 5.01621407862\n"
     ]
    }
   ],
   "source": [
    "yii = yi(4.6, 5.4, 10000.0, 30.0)\n",
    "print yii, gauss[1]"
   ]
  },
  {
   "cell_type": "code",
   "execution_count": 144,
   "metadata": {
    "collapsed": false
   },
   "outputs": [
    {
     "name": "stderr",
     "output_type": "stream",
     "text": [
      "/usr/local/lib/python2.7/dist-packages/ipykernel/__main__.py:29: DeprecationWarning: using a non-integer number instead of an integer will result in an error in the future\n"
     ]
    },
    {
     "ename": "TypeError",
     "evalue": "'function' object has no attribute '__getitem__'",
     "output_type": "error",
     "traceback": [
      "\u001b[1;31m---------------------------------------------------------------------------\u001b[0m",
      "\u001b[1;31mTypeError\u001b[0m                                 Traceback (most recent call last)",
      "\u001b[1;32m<ipython-input-144-204d684aae53>\u001b[0m in \u001b[0;36m<module>\u001b[1;34m()\u001b[0m\n\u001b[1;32m----> 1\u001b[1;33m \u001b[0mCj\u001b[0m\u001b[1;33m(\u001b[0m\u001b[0mh\u001b[0m\u001b[1;33m,\u001b[0m \u001b[1;36m4.6\u001b[0m\u001b[1;33m,\u001b[0m \u001b[1;36m5.4\u001b[0m\u001b[1;33m,\u001b[0m \u001b[1;36m100\u001b[0m\u001b[1;33m)\u001b[0m\u001b[1;33m\u001b[0m\u001b[0m\n\u001b[0m",
      "\u001b[1;32m<ipython-input-143-760f6f3cf386>\u001b[0m in \u001b[0;36mCj\u001b[1;34m(L, ymax, ymin, K)\u001b[0m\n\u001b[0;32m     27\u001b[0m         \u001b[1;32mfor\u001b[0m \u001b[0mi\u001b[0m \u001b[1;32min\u001b[0m \u001b[0mrange\u001b[0m\u001b[1;33m(\u001b[0m\u001b[0mM\u001b[0m\u001b[1;33m)\u001b[0m\u001b[1;33m:\u001b[0m\u001b[1;33m\u001b[0m\u001b[0m\n\u001b[0;32m     28\u001b[0m             \u001b[0myii\u001b[0m \u001b[1;33m=\u001b[0m \u001b[0myi\u001b[0m\u001b[1;33m(\u001b[0m\u001b[0mymin\u001b[0m\u001b[1;33m,\u001b[0m \u001b[0mymax\u001b[0m\u001b[1;33m,\u001b[0m \u001b[0mM\u001b[0m\u001b[1;33m,\u001b[0m \u001b[0mi\u001b[0m\u001b[1;33m)\u001b[0m\u001b[1;33m\u001b[0m\u001b[0m\n\u001b[1;32m---> 29\u001b[1;33m             \u001b[1;32mif\u001b[0m \u001b[0mL\u001b[0m\u001b[1;33m[\u001b[0m\u001b[1;36m0\u001b[0m\u001b[1;33m]\u001b[0m\u001b[1;33m[\u001b[0m\u001b[0myii\u001b[0m\u001b[1;33m]\u001b[0m\u001b[1;33m>\u001b[0m\u001b[0mPj\u001b[0m\u001b[1;33m[\u001b[0m\u001b[0mPmax\u001b[0m\u001b[1;33m,\u001b[0m\u001b[0mK\u001b[0m\u001b[1;33m,\u001b[0m \u001b[0mj\u001b[0m \u001b[1;33m]\u001b[0m\u001b[1;33m:\u001b[0m\u001b[1;33m\u001b[0m\u001b[0m\n\u001b[0m\u001b[0;32m     30\u001b[0m                 \u001b[0mH\u001b[0m\u001b[1;33m[\u001b[0m\u001b[0mi\u001b[0m\u001b[1;33m]\u001b[0m \u001b[1;33m=\u001b[0m \u001b[0mL\u001b[0m\u001b[1;33m[\u001b[0m\u001b[0mi\u001b[0m\u001b[1;33m]\u001b[0m\u001b[1;33m\u001b[0m\u001b[0m\n\u001b[0;32m     31\u001b[0m             \u001b[1;32melse\u001b[0m\u001b[1;33m:\u001b[0m\u001b[1;33m\u001b[0m\u001b[0m\n",
      "\u001b[1;31mTypeError\u001b[0m: 'function' object has no attribute '__getitem__'"
     ]
    }
   ],
   "source": [
    "Cj(h, 4.6, 5.4, 100)"
   ]
  },
  {
   "cell_type": "markdown",
   "metadata": {},
   "source": [
    "plot cj vs pj\n",
    "\n",
    "cj < c0 < cj+1\n",
    "\n",
    "fing cj and cj+1\n",
    "\n",
    "\n",
    "5. C= aP+b\n",
    "cj+1 = aPj+1 + b\n",
    "Cj = a Pj + b\n",
    "\n",
    "P0 = Pj+1 - Pj /(Cj+1 - Cj) * (c0 - Cj) + Pj\n",
    "\n",
    "6. Find i : Piz P0 >Pi+1\n",
    "\n",
    "7. for each value of this i \n",
    "y = yi+1 - yi1 /(Pi+1 - Pi) * (P0-Pi) + yi"
   ]
  },
  {
   "cell_type": "code",
   "execution_count": 139,
   "metadata": {
    "collapsed": false
   },
   "outputs": [
    {
     "name": "stdout",
     "output_type": "stream",
     "text": [
      "[ 0.          0.04036267  0.08072534  0.12108801  0.16145069  0.20181336\n",
      "  0.24217603  0.2825387   0.32290137  0.36326404  0.40362671  0.44398938\n",
      "  0.48435206  0.52471473  0.5650774   0.60544007  0.64580274  0.68616541\n",
      "  0.72652808  0.76689076  0.80725343  0.8476161   0.88797877  0.92834144\n",
      "  0.96870411  1.00906678  1.04942946  1.08979213  1.1301548   1.17051747\n",
      "  1.21088014  1.25124281  1.29160548  1.33196815  1.37233083  1.4126935\n",
      "  1.45305617  1.49341884  1.53378151  1.57414418  1.61450685  1.65486953\n",
      "  1.6952322   1.73559487  1.77595754  1.81632021  1.85668288  1.89704555\n",
      "  1.93740823  1.9777709   2.01813357  2.05849624  2.09885891  2.13922158\n",
      "  2.17958425  2.21994692  2.2603096   2.30067227  2.34103494  2.38139761\n",
      "  2.42176028  2.46212295  2.50248562  2.5428483   2.58321097  2.62357364\n",
      "  2.66393631  2.70429898  2.74466165  2.78502432  2.825387    2.86574967\n",
      "  2.90611234  2.94647501  2.98683768  3.02720035  3.06756302  3.10792569\n",
      "  3.14828837  3.18865104  3.22901371  3.26937638  3.30973905  3.35010172\n",
      "  3.39046439  3.43082707  3.47118974  3.51155241  3.55191508  3.59227775\n",
      "  3.63264042  3.67300309  3.71336577  3.75372844  3.79409111  3.83445378\n",
      "  3.87481645  3.91517912  3.95554179  3.99590446]\n"
     ]
    },
    {
     "name": "stderr",
     "output_type": "stream",
     "text": [
      "/usr/local/lib/python2.7/dist-packages/ipykernel/__main__.py:2: DeprecationWarning: using a non-integer number instead of an integer will result in an error in the future\n",
      "  from ipykernel import kernelapp as app\n"
     ]
    }
   ],
   "source": [
    "K = 100.0\n",
    "P_grid = np.zeros(K)\n",
    "for j in range(0, int(K)):\n",
    "    P_grid[j] = Pj(Pmax, 100, j+1)\n",
    "print P_grid"
   ]
  },
  {
   "cell_type": "code",
   "execution_count": 125,
   "metadata": {
    "collapsed": true
   },
   "outputs": [],
   "source": [
    "def integral(a, b, f):\n",
    "    low = abs(f[1] - a)\n",
    "    high = abs(f[1] - b)\n",
    "    index_low = np.where(low == min(low))[0]\n",
    "    index_high = np.where(high == min(high))[0]\n",
    "    dl = f[0][index_low]\n",
    "    dh = f[0][index_high]\n",
    "    dt = abs(f[1][index_low+1] - f[1][index_low])\n",
    "    I = sum(f[0][index_low:index_high]) * dt\n",
    "    return I"
   ]
  },
  {
   "cell_type": "code",
   "execution_count": null,
   "metadata": {
    "collapsed": true
   },
   "outputs": [],
   "source": []
  }
 ],
 "metadata": {
  "kernelspec": {
   "display_name": "Python 2",
   "language": "python",
   "name": "python2"
  },
  "language_info": {
   "codemirror_mode": {
    "name": "ipython",
    "version": 2
   },
   "file_extension": ".py",
   "mimetype": "text/x-python",
   "name": "python",
   "nbconvert_exporter": "python",
   "pygments_lexer": "ipython2",
   "version": "2.7.6"
  }
 },
 "nbformat": 4,
 "nbformat_minor": 0
}
