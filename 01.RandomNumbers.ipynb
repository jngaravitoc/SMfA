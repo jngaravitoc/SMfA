{
 "cells": [
  {
   "cell_type": "markdown",
   "metadata": {},
   "source": [
    "# Random Numbers"
   ]
  },
  {
   "cell_type": "markdown",
   "metadata": {},
   "source": [
    "## How to recognize a random number generator?\n",
    "\n",
    "1. The distribution of numbers should flat.\n",
    "2. There should not be any correlation between any sequence of numbers.\n",
    "3. \n",
    "4. Pick N a set of random numbers take their average, if you do this N time you should get a Gaussian distribution."
   ]
  },
  {
   "cell_type": "markdown",
   "metadata": {},
   "source": [
    "# Benford's Law\n",
    "\n",
    "Most of the leading digits in daily life (elections, populations etc..), physical constants are low numbers, being 1 \n",
    "the highes probability and 9 with the lowest. (What happen with 0).\n",
    "\n",
    "Benford's law was first notest by Simon Newcomb,\n",
    "\n",
    "Benford's law can be expresed mathematically as:\n",
    "\n",
    "$P(D)=Log_{10} \\left( \\dfrac{d + 1}{d}\\right)$"
   ]
  },
  {
   "cell_type": "markdown",
   "metadata": {},
   "source": [
    "# Random numbers:\n",
    "\n",
    "Random numbers play a mayor role in many computing aspects \n",
    "\n",
    "## Long Period\n",
    "\n",
    "For linear Conguential Generators:\n",
    "\n",
    "$N^2 << m$\n",
    "\n",
    "Where $N$ is the number of random numbers that I'll use and $m$ is the period.   \n",
    "\n",
    "## Clustering / discrepancy?\n",
    "\n",
    "## Efficiency\n",
    "\n",
    "## Repeatibility"
   ]
  },
  {
   "cell_type": "markdown",
   "metadata": {},
   "source": [
    "# Pseudo random number generators:\n",
    "\n",
    "### Linear Congruential Generator"
   ]
  },
  {
   "cell_type": "markdown",
   "metadata": {
    "collapsed": true
   },
   "source": [
    "# Python pseudo random generator algorithm\n",
    "\n",
    "In python there are two main libraries numpy.random and random.random that implement the same\n",
    "Mersenne Twister (Matsumoto & Nitshinura 98) algorithm. \n",
    "\n",
    "- The period of the Algorithm is $m = 2^{19937}- 1$  "
   ]
  },
  {
   "cell_type": "code",
   "execution_count": 1,
   "metadata": {
    "collapsed": false
   },
   "outputs": [
    {
     "name": "stdout",
     "output_type": "stream",
     "text": [
      "Populating the interactive namespace from numpy and matplotlib\n"
     ]
    }
   ],
   "source": [
    "%pylab inline\n",
    "import random "
   ]
  },
  {
   "cell_type": "code",
   "execution_count": 14,
   "metadata": {
    "collapsed": false
   },
   "outputs": [
    {
     "data": {
      "text/plain": [
       "1"
      ]
     },
     "execution_count": 14,
     "metadata": {},
     "output_type": "execute_result"
    }
   ],
   "source": [
    "random.randint(1, 5)"
   ]
  },
  {
   "cell_type": "markdown",
   "metadata": {},
   "source": [
    "Difference between the two libraries is related with threats.\n",
    "\n",
    "http://stackoverflow.com/questions/7029993/differences-between-numpy-random-and-random-random-in-python\n",
    "\n",
    "Threats in python:\n",
    "\n",
    "http://www.prasannatech.net/2008/08/introduction-to-thread-programming.html"
   ]
  },
  {
   "cell_type": "markdown",
   "metadata": {},
   "source": [
    "# C random number generator. \n",
    "\n",
    "- https://sourceware.org/git/?p=glibc.git;a=blob_plain;f=stdlib/random_r.c;hb=HEAD\n",
    "    \n",
    "- http://stackoverflow.com/questions/12642610/how-is-the-rand-srand-function-implemented-in-c\n",
    "    \n",
    "- http://stackoverflow.com/questions/1026327/what-common-algorithms-are-used-for-cs-rand\n",
    "    "
   ]
  },
  {
   "cell_type": "code",
   "execution_count": null,
   "metadata": {
    "collapsed": true
   },
   "outputs": [],
   "source": []
  }
 ],
 "metadata": {
  "kernelspec": {
   "display_name": "Python 2",
   "language": "python",
   "name": "python2"
  },
  "language_info": {
   "codemirror_mode": {
    "name": "ipython",
    "version": 2
   },
   "file_extension": ".py",
   "mimetype": "text/x-python",
   "name": "python",
   "nbconvert_exporter": "python",
   "pygments_lexer": "ipython2",
   "version": "2.7.6"
  }
 },
 "nbformat": 4,
 "nbformat_minor": 0
}
