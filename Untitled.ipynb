{
 "cells": [
  {
   "cell_type": "code",
   "execution_count": 13,
   "metadata": {
    "collapsed": false
   },
   "outputs": [
    {
     "name": "stdout",
     "output_type": "stream",
     "text": [
      "Populating the interactive namespace from numpy and matplotlib\n"
     ]
    },
    {
     "name": "stderr",
     "output_type": "stream",
     "text": [
      "/usr/local/lib/python2.7/dist-packages/IPython/kernel/__init__.py:13: ShimWarning: The `IPython.kernel` package has been deprecated. You should import from ipykernel or jupyter_client instead.\n",
      "  \"You should import from ipykernel or jupyter_client instead.\", ShimWarning)\n"
     ]
    }
   ],
   "source": [
    "import numpy as np\n",
    "import matplotlib.pyplot as plt\n",
    "from scipy import integrate\n",
    "from astropy import units as u\n",
    "from astropy import constants\n",
    "%pylab inline"
   ]
  },
  {
   "cell_type": "code",
   "execution_count": 45,
   "metadata": {
    "collapsed": true
   },
   "outputs": [],
   "source": [
    "def integrand(z, Omega_m, Omega_L):\n",
    "    return ((1+z)**2.0*(1+Omega_m*z) - z*(2.0+z)*Omega_L)**-0.5\n",
    "    \n",
    "    \n",
    "def luminsity_D(z, Omega_m, Omega_L, H_0):\n",
    "    Omega_k = 1.0 - Omega_m - Omega_L\n",
    "    integral = integrate.quad(integrand, 0, z, args=(Omega_m, Omega_L))[0]\n",
    "    D_L = c * (1.0+z)/(H_0 * np.sqrt(np.abs(Omega_k))) * np.sinh(np.sqrt(np.abs(Omega_k))*integral)\n",
    "    D_L = D_L.to(u.Mpc)\n",
    "    return D_L\n",
    "\n",
    "def apparent_m(M, D_L, K):\n",
    "    return M+5*np.log10(D_L.value) + K + 25\n",
    "\n",
    "def miu_p(z, Omega_m, Omega_L, H_0):\n",
    "    D_L = luminsity_D(z, Omega_m, Omega_L, H_0)\n",
    "    return 5.0*np.log10(D_L.value) + 25.0\n",
    "\n",
    "def likelihood(miu_p, miu_o):\n",
    "    l = np.sum((miu_p - miu_o)**2.0/(disp_m0**2.0 + disp_v**2.0))\n",
    "    return l\n",
    "    "
   ]
  },
  {
   "cell_type": "code",
   "execution_count": null,
   "metadata": {
    "collapsed": true
   },
   "outputs": [],
   "source": []
  },
  {
   "cell_type": "code",
   "execution_count": 3,
   "metadata": {
    "collapsed": false
   },
   "outputs": [
    {
     "data": {
      "text/plain": [
       "(1.506039363028539, 1.6720395768260887e-14)"
      ]
     },
     "execution_count": 3,
     "metadata": {},
     "output_type": "execute_result"
    }
   ],
   "source": [
    "integrate.quad(integrand, 0, 1, args=(0.5, 0.5))\n"
   ]
  },
  {
   "cell_type": "code",
   "execution_count": 21,
   "metadata": {
    "collapsed": false
   },
   "outputs": [
    {
     "name": "stdout",
     "output_type": "stream",
     "text": [
      "  Name   = Speed of light in vacuum\n",
      "  Value  = 299792458.0\n",
      "  Error  = 0.0\n",
      "  Units  = m / s\n",
      "  Reference = CODATA 2010\n",
      "70.0 km / (Mpc s)\n"
     ]
    }
   ],
   "source": [
    "c = constants.c\n",
    "print c\n",
    "H_0 = 70.0 * u.km / u.s / u.Mpc\n",
    "print H_0"
   ]
  },
  {
   "cell_type": "code",
   "execution_count": 44,
   "metadata": {
    "collapsed": false
   },
   "outputs": [
    {
     "data": {
      "text/plain": [
       "44.126183992354157"
      ]
     },
     "execution_count": 44,
     "metadata": {},
     "output_type": "execute_result"
    }
   ],
   "source": [
    "miu_p(1.0, 0.27, 0.7, H_0)"
   ]
  },
  {
   "cell_type": "code",
   "execution_count": 9,
   "metadata": {
    "collapsed": true
   },
   "outputs": [],
   "source": [
    "Omega_m_t = np.linspace(0, 2, 20)\n",
    "Omega_L_t = np.linspace(-2, 2, 20)\n",
    "H_test = np.linspace(60, 80, 20)\n",
    "m_test = np.zeros((20, 20))\n",
    "miu_test = np.zeros((20, 20, 20))"
   ]
  },
  {
   "cell_type": "code",
   "execution_count": 12,
   "metadata": {
    "collapsed": false
   },
   "outputs": [
    {
     "name": "stderr",
     "output_type": "stream",
     "text": [
      "/usr/local/lib/python2.7/dist-packages/ipykernel/__main__.py:2: RuntimeWarning: invalid value encountered in double_scalars\n",
      "  from ipykernel import kernelapp as app\n"
     ]
    }
   ],
   "source": [
    "for i in range(len(Omega_m_t)):\n",
    "    for j in range(len(Omega_L_t)):\n",
    "        for k in range(len(H_test)):\n",
    "            Dl = luminsity_D(1.0, Omega_m_t[i], Omega_L_t[j], 1.0, H_test[k])\n",
    "            miu_test[i][j][k] = miu_p(Dl)"
   ]
  },
  {
   "cell_type": "code",
   "execution_count": 7,
   "metadata": {
    "collapsed": false
   },
   "outputs": [
    {
     "data": {
      "text/plain": [
       "<matplotlib.image.AxesImage at 0x7f8aad830610>"
      ]
     },
     "execution_count": 7,
     "metadata": {},
     "output_type": "execute_result"
    },
    {
     "data": {
      "image/png": "[encoded data removed]",
      "text/plain": [
       "<matplotlib.figure.Figure at 0x7f8aae64d390>"
      ]
     },
     "metadata": {},
     "output_type": "display_data"
    }
   ],
   "source": [
    "plt.imshow(m_test)"
   ]
  },
  {
   "cell_type": "code",
   "execution_count": null,
   "metadata": {
    "collapsed": true
   },
   "outputs": [],
   "source": []
  }
 ],
 "metadata": {
  "kernelspec": {
   "display_name": "Python 2",
   "language": "python",
   "name": "python2"
  },
  "language_info": {
   "codemirror_mode": {
    "name": "ipython",
    "version": 2
   },
   "file_extension": ".py",
   "mimetype": "text/x-python",
   "name": "python",
   "nbconvert_exporter": "python",
   "pygments_lexer": "ipython2",
   "version": "2.7.6"
  }
 },
 "nbformat": 4,
 "nbformat_minor": 0
}
