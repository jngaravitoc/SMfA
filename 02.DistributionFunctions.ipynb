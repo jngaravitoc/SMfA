{
 "cells": [
  {
   "cell_type": "code",
   "execution_count": 87,
   "metadata": {
    "collapsed": false
   },
   "outputs": [
    {
     "name": "stdout",
     "output_type": "stream",
     "text": [
      "Populating the interactive namespace from numpy and matplotlib\n"
     ]
    }
   ],
   "source": [
    "%pylab inline\n",
    "font = {'size':16, 'family':'serif'}\n",
    "matplotlib.rc('font', **font)"
   ]
  },
  {
   "cell_type": "markdown",
   "metadata": {},
   "source": [
    "How to go from a density distribution to an other density distribution function:\n",
    "\n",
    "$P(x)dx -> P(y)dy$\n",
    "\n",
    "We can do it by: \n",
    "\n",
    "$|P(x)dx| = |P(Y)dy|$\n",
    "\n",
    "if $P(x)dx = 1$\n",
    "\n",
    "$dx = P(y)dy$\n",
    "\n",
    "solving for $x$:\n",
    "\n",
    "$x = \\int P(y)dy$"
   ]
  },
  {
   "cell_type": "markdown",
   "metadata": {},
   "source": [
    "## 1. Exponential Distribution\n",
    "\n",
    "$P(y) = \\dfrac{1}{a} e^{-y/a}$\n",
    "\n",
    "$x = -e^{-y/a}$\n",
    "\n",
    "$y = -a ln(x)$"
   ]
  },
  {
   "cell_type": "code",
   "execution_count": 89,
   "metadata": {
    "collapsed": false
   },
   "outputs": [
    {
     "data": {
      "image/png": "[encoded data removed]",
      "text/plain": [
       "<matplotlib.figure.Figure at 0x7f6f3ce40550>"
      ]
     },
     "metadata": {},
     "output_type": "display_data"
    }
   ],
   "source": [
    "a = 10.0\n",
    "x = random.random(100000)\n",
    "f = -a*log(x)\n",
    "h = hist(f, bins=100)"
   ]
  },
  {
   "cell_type": "markdown",
   "metadata": {},
   "source": [
    "## 2. Gaussian Distribution.\n",
    "\n",
    "$G(z) = 1 / \\sqrt{2\\pi\\sigma^2} e^{(z-z_0)^2/{2\\sigma^2}}$\n",
    "\n",
    "The integral of this distribution function is the error function.\n",
    "\n",
    "### Box Muler tranformation: \n",
    "\n",
    "The method uses two random dsitributions to go to two normal distributions.\n",
    "\n",
    "$y = z-z_0/\\sigma$\n",
    "$z = z_0 + \\sigma - y$\n",
    "\n",
    "$y_1 = \\sqrt{-2 ln x_1} cos(2\\pi x_1)$\n",
    "\n",
    "$y_2 = \\sqrt{-2 ln x_1} cos(2\\pi x_2)$\n",
    "\n",
    "$|P(y_1, y_2)dy_1 dy_2| = P(x_1,x_2)dx_1dx_2$\n",
    "\n",
    "$P(y_1, y_2) = |\\dfrac{\\partial{x_1x_2}}{\\partial{y_1y_2}}|$\n",
    "\n",
    "$P(x_1,x_2) = 1$\n",
    "\n",
    "$y_1^2 + y_2^2 = - 2lnx_1 $\n",
    "$x1 = exp(-1/2 ((y1^2 + y2^2)))$\n",
    "$y2/y1 = tan(2\\pi x_2) $\n",
    "$x_2 = 1/(2\\pi) tan^{-2}(y2/y1)$\n",
    "\n",
    "$P(y1,y2) = (1/sqrt(2 \\pi) e^{-y1^2/2} )(1/sqrt(2 \\pi) e^{-y2^2/2} )$"
   ]
  },
  {
   "cell_type": "code",
   "execution_count": 91,
   "metadata": {
    "collapsed": false
   },
   "outputs": [],
   "source": [
    "def gaussian(N):\n",
    "    x1 = random.random(N)\n",
    "    x2 = random.random(N)\n",
    "    #P = 1/np.sqrt(2*pi)*exp(-y1**2.0/2.0) * 1/np.sqrt(2*pi)*exp(-y1**2.0/2.0)\n",
    "    y1 = sqrt(-2*log(x1)) * cos(2*pi*x2)\n",
    "    y2 = sqrt(-2*log(x1)) * sin(2*pi*x2)\n",
    "    return y1\n"
   ]
  },
  {
   "cell_type": "code",
   "execution_count": 83,
   "metadata": {
    "collapsed": false
   },
   "outputs": [
    {
     "data": {
      "image/png": "[encoded data removed]",
      "text/plain": [
       "<matplotlib.figure.Figure at 0x7f6f3cd62e90>"
      ]
     },
     "metadata": {},
     "output_type": "display_data"
    }
   ],
   "source": [
    "figure(figsize=(8, 6))\n",
    "subplot(1, 2, 1)\n",
    "g = hist(y1, bins=50)\n",
    "xlabel('$y_1$', fontsize=35)\n",
    "ylabel('$P(y_1)$', fontsize=35)\n",
    "subplot(1, 2, 2)\n",
    "xlabel('$y_2$', fontsize=35)\n",
    "#ylabel('$P(y_2)$', fontsize=35)\n",
    "\n",
    "g = hist(y2, bins=50)"
   ]
  },
  {
   "cell_type": "markdown",
   "metadata": {},
   "source": [
    "## 3. Central limit theorem:\n",
    "\n",
    "$x_i$ random numbers.  \n",
    "\n",
    "$n-> x_1, ...., x_n$\n",
    "\n",
    "$Y_n = \\dfrac{1}{n} \\sum_{i=1}^{n}X_i$\n",
    "\n",
    "At high $n$ this function converges to the Gaussian distribution function.\n",
    "\n",
    "with a very large measurements the errors are going to be gaussian, then you can use the central value as the\n",
    "errors of all your measurements.\n",
    "\n",
    "probe: http://mathworld.wolfram.com/CentralLimitTheorem.html\n",
    "\n",
    "How easy this function converge to the Gaussian.\n",
    "\n",
    "### Berry - Essén\n",
    "\n",
    "$|F_n(x) - \\phi_n(x)| \\leq  \\dfrac{C \\rho}{\\sigma^3 \\sqrt{n}}$ \n",
    "\n",
    "$F_n$ distribution of $Y$, $\\phi$  cumulative  distribution of gaussian, $C$ order unity, $\\rho$ $3^{rd}$ moment of distribution. $\\sigma^3$ dispersion of variables, $n$ number of variables. \n",
    "\n",
    "Any physical process always converge to a Gaussian. In extremely flat distribution the converge is very slow. \n",
    "\n",
    "It fails when the third moment is infinite. \n",
    "\n",
    "Many gaussian generators use the Central limit therem instead ofthe trnafomation of example 2, this is because is fast to sum that to take logarithms. But for the best results is better to use the Box-Muller algorithm."
   ]
  },
  {
   "cell_type": "markdown",
   "metadata": {},
   "source": [
    "## 4. Maxwell Boltzmann-Distribution\n",
    "\n",
    "$f(v) = \\left( \\dfrac{m}{2 \\pi k_B T} \\right) 4\\pi v^2 e^{-m v^2 / {2k_BT}}dv$\n",
    "\n",
    "$v' = \\sqrt{m/(k_b T)} v$\n",
    "$dv' = \\sqrt{m/(k_b T)} dv$\n",
    "\n",
    "$f(v) = \\dfrac{2}{\\pi} v'^2 e^{-v'^2 / {2}}dv'$\n",
    "\n",
    "$f(v_x) = \\dfrac{1}{2\\pi} e^{-v_x'^2 / {2}}dv'$\n",
    "$f(v_y) = \\dfrac{1}{2\\pi} e^{-v_y'^2 / {2}}dv'$\n",
    "$f(v_z) = \\dfrac{1}{2\\pi} e^{-v_z'^2 / {2}}dv'$\n",
    "                             \n",
    "$f(v_x, v_y, v_z)dxdydz = \\dfrac{1}{(2\\pi)^{3/2}} e^{-v^2/2}$\n",
    "\n"
   ]
  },
  {
   "cell_type": "code",
   "execution_count": 115,
   "metadata": {
    "collapsed": false
   },
   "outputs": [],
   "source": [
    "N = 100000\n",
    "#vx = np.zeros(N)\n",
    "vx = gaussian(N)\n",
    "vy = gaussian(N)\n",
    "vz = gaussian(N)\n",
    "\n",
    "v = np.sqrt(vx**2 + vy**2 + vz**2)\n",
    "\n",
    "MB = 1 / (2*pi)**(3.0/2.0) * exp(-v**2/2.0)"
   ]
  },
  {
   "cell_type": "code",
   "execution_count": 116,
   "metadata": {
    "collapsed": false
   },
   "outputs": [
    {
     "data": {
      "image/png": "[encoded data removed]",
      "text/plain": [
       "<matplotlib.figure.Figure at 0x7f6f3ce8d210>"
      ]
     },
     "metadata": {},
     "output_type": "display_data"
    }
   ],
   "source": [
    "h4 = hist(MB, bins=100)"
   ]
  },
  {
   "cell_type": "markdown",
   "metadata": {},
   "source": [
    "## 5. Rejection Method\n",
    "\n",
    "Doesn't work for very peak distributions.\n"
   ]
  },
  {
   "cell_type": "markdown",
   "metadata": {},
   "source": [
    "## 6. Binomial Distribution:\n",
    "\n",
    "Suppose a positive tha can be 'yes' or 'no', the likelihood that if I observe that process is always positive.\n",
    "\n",
    "$P$ Prios likelihood\n",
    "$N$ observations\n",
    "$n$ success\n",
    "\n",
    "the chance that $n$ is correct:\n",
    "\n",
    "$P(n, \\rho) = \\left( N n\\right) \\rho^n (1 - \\rho)^{N-n} = \\dfrac{N!}{n!(N-n)! \\rho^{n}(1-\\rho)^{N-n}}$\n",
    "\n",
    "the mean is:\n",
    "\n",
    "$\\sum_{n=0}^N nP_b(n) = N \\rho = \\mu $\n",
    "\n",
    "Variance:\n",
    "\n",
    "$\\sum_{n=0}^{N} (n-N\\rho)^2 P_b(n) = N\\rho(1 - \\rho)$"
   ]
  },
  {
   "cell_type": "markdown",
   "metadata": {},
   "source": [
    "## 7. Poisson Distribution"
   ]
  },
  {
   "cell_type": "markdown",
   "metadata": {},
   "source": [
    "if $\\rho<<1$ and $N\\rho$ is finite the binomial distribution reduces to the Poisson distribution.\n",
    "\n",
    "the chance of success go to 0 and the number of trials is big. The variance is equal to the mean.\n",
    "\n",
    "$lim N-> \\infty \\left[ \\dfrac{N!}{n!(N-n)! \\rho^n (1 - \\rho)^{N-n}}\\right] $ \n",
    "\n",
    "$lim N-> \\infty  \\left[ \\dfrac{(N - n + 1) .... (N-1)N}{n!) \\left( \\dfrac{\\mu}{N}\\right)^n \\left( 1 - \\dfrac{\\mu}{N}\\right)^N\n",
    "\\left( 1 - \\dfrac{\\mu}{N}\\right)^-n \\right] $ \n",
    "\n",
    "$\\dfrac{\\mu}{n!} lim N-> \\infty  \\left[ \\dfrac{(N - n + 1) .... (N-1)N}{N^2) \\right] lim N-> \\infty (1 - \\mu/N)^N$"
   ]
  },
  {
   "cell_type": "code",
   "execution_count": null,
   "metadata": {
    "collapsed": true
   },
   "outputs": [],
   "source": []
  }
 ],
 "metadata": {
  "kernelspec": {
   "display_name": "Python 2",
   "language": "python",
   "name": "python2"
  },
  "language_info": {
   "codemirror_mode": {
    "name": "ipython",
    "version": 2
   },
   "file_extension": ".py",
   "mimetype": "text/x-python",
   "name": "python",
   "nbconvert_exporter": "python",
   "pygments_lexer": "ipython2",
   "version": "2.7.6"
  }
 },
 "nbformat": 4,
 "nbformat_minor": 0
}
