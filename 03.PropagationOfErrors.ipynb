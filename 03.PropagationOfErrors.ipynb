{
 "cells": [
  {
   "cell_type": "markdown",
   "metadata": {},
   "source": [
    "#Propagation of errors:\n",
    "\n",
    "$x = f(u, v)$\n",
    "\n",
    "$\\sigma_x^2 = \\sigma_u^2 \\left( \\partial f/ \\partial u\\right)^2 + \\sigma_v^2 \\left( \\partial f/ \\partial v\\right)^2 + 2\\sigma_{uv} \\partial f/ \\partial v \\partial f \\partial v $\n",
    "\n",
    "When is this equation not valid:\n",
    "\n",
    "1. If the errors are big this doesn't work\n",
    "2. you assume that $\\bar{x} = f(\\bar{u}\\bar{v})$\n",
    "2.1 this is satisfied in a linear relation\n",
    "3. If x is diferenciable \n",
    "\n",
    "Proof:\n",
    "Let's make a Taylor expansion around $x$\n",
    "\n",
    "$x = f(\\bar{u}\\bar{v}) + (u - \\bar{u})\\partial f / \\partial u + (v - \\bar{v}) \\partial f / \\partial v + .. $\n",
    "\n",
    "$(x_i - \\bar{x})^2 = [(u - \\bar{u})\\partial f / \\partial{u} + (v - \\bar{v}) \\partial f / \\partial v + ..]^2 $\n",
    "\n",
    "$(x_i - \\bar{x})^2 = (u - \\bar{u})^2 (\\partial f / \\partial{u})^2 + (v - \\bar{v})^2 (\\partial f / \\partial v)^2 + 2(u_i - \\bar{u})(v_i - \\bar{v})\\partial f / \\partial{u} \\partial f / \\partial{v}$\n",
    "\n",
    "$\\dfrac{1}{N-1}\\sum (x_i - \\bar{x})^2 = \\dfrac{1}{N-1}\\sum( u - \\bar{u})^2 (\\partial f / \\partial{u})^2 + (v - \\bar{v})^2 (\\partial f / \\partial v)^2 + 2(u_i - \\bar{u})(v_i - \\bar{v})\\partial f / \\partial{u} \\partial f / \\partial{v} $\n",
    "\n",
    "$\\sigma_x^2 = \\sigma_u^2 \\left( \\partial f/ \\partial u\\right)^2 + \\sigma_v^2 \\left( \\partial f/ \\partial v\\right)^2 + 2\\sigma_{uv} \\partial f/ \\partial v \\partial f \\partial v$\n",
    "\n"
   ]
  },
  {
   "cell_type": "markdown",
   "metadata": {},
   "source": [
    "$I$ = brigtness of star\n",
    "\n",
    "$ m = -2.5 log_{10}\\left( \\dfrac{I}{I_0}\\right) + m_0 $\n",
    "\n",
    "$  m = -2.5 log_{10} I $\n",
    "\n",
    "$| \\partial m / \\partial I | = \\partial / \\partial I [2.5 ln I / Ln10] = 2.5/Ln10 1 / I  $\n",
    "\n",
    "$\\sigma_m = 2.5/ln10 (\\sigma_I / I)$\n",
    "\n",
    "\n"
   ]
  },
  {
   "cell_type": "code",
   "execution_count": 1,
   "metadata": {
    "collapsed": false
   },
   "outputs": [
    {
     "name": "stdout",
     "output_type": "stream",
     "text": [
      "Populating the interactive namespace from numpy and matplotlib\n"
     ]
    }
   ],
   "source": [
    "%pylab inline"
   ]
  },
  {
   "cell_type": "code",
   "execution_count": 2,
   "metadata": {
    "collapsed": true
   },
   "outputs": [],
   "source": [
    "def mag(I_0, I, m_0):\n",
    "    m = - 2.5 * log10(I/I_0) + m_0\n",
    "    return m\n",
    "\n",
    "def sigma_m(sigma_I, I):\n",
    "    sigma_m = 2.5/log(10) * sigma_I / I\n",
    "    return sigma_m\n",
    "    "
   ]
  },
  {
   "cell_type": "code",
   "execution_count": 3,
   "metadata": {
    "collapsed": true
   },
   "outputs": [],
   "source": [
    "sigma_I = 0.1\n",
    "Imean = 1.0\n",
    "N_points = 1000000\n",
    "Mmean = 0.0"
   ]
  },
  {
   "cell_type": "code",
   "execution_count": 4,
   "metadata": {
    "collapsed": false
   },
   "outputs": [
    {
     "name": "stdout",
     "output_type": "stream",
     "text": [
      "mean m:  0.00550625511026\n",
      "[ 0.11028233  0.10364929  0.12000948 ...,  0.09447378  0.10626285\n",
      "  0.11981927]\n"
     ]
    }
   ],
   "source": [
    "I = random.normal(Imean, sigma_I, N_points)\n",
    "m = mag(1.0, abs(I), 0.0)\n",
    "print 'mean m: ', mean(m) \n",
    "sigma_m1 = sigma_m(sigma_I, abs(I)) \n",
    "print sigma_m1\n",
    "m2 = random.normal(Mmean, sigma_m1, N_points)\n"
   ]
  },
  {
   "cell_type": "code",
   "execution_count": 5,
   "metadata": {
    "collapsed": false
   },
   "outputs": [
    {
     "data": {
      "image/png": "[encoded data removed]",
      "text/plain": [
       "<matplotlib.figure.Figure at 0x7f91792aa7d0>"
      ]
     },
     "metadata": {},
     "output_type": "display_data"
    }
   ],
   "source": [
    "figure(figsize=(15, 5))\n",
    "subplot(1, 2, 1)\n",
    "h = hist(m, bins=80, histtype='step', lw=2.0, normed=True)\n",
    "h = hist(m2, bins=80, histtype='step', lw=2.0, normed=True)\n",
    "subplot(1, 2, 2)\n",
    "h = hist(I, bins=80, histtype='step', lw=2.0, normed=True)"
   ]
  },
  {
   "cell_type": "code",
   "execution_count": 6,
   "metadata": {
    "collapsed": false
   },
   "outputs": [],
   "source": [
    "# do it for sigmam= 0.3, 0.5\n",
    "# Be careful when computing errors that are not linear"
   ]
  },
  {
   "cell_type": "markdown",
   "metadata": {},
   "source": [
    "how to do it:\n",
    "\n",
    "\n",
    "$P(x) = P(u) |\\dfrac{d u}{d x}|$\n",
    "\n",
    "Final likelihood.\n",
    "\n",
    "I want to know $|\\dfrac{d P(x)}{dx}|=0$\n",
    "\n",
    "$\\dfrac{d}{dx} \\left[P(u) \\dfrac{du}{dx}\\right]=0$\n",
    "\n",
    "$\\dfrac{dP(u)}{dx} \\dfrac{du}{dx} + P(u) \\dfrac{d^2 u }{dx} = 0$\n",
    "\n",
    "$\\dfrac{dP(u)}{dx} (\\dfrac{du}{dx})^2 + P(u) \\dfrac{d^2 u }{dx} = 0$\n",
    "\n",
    "this means:\n",
    "\n",
    "$\\dfrac{d^2 u}{dx^2 } = 0$, $u = ax + b$\n",
    "\n",
    "Ex:\n",
    "\n",
    "$m = -2.5 log(I)$ -> $I = 1o^{-m/2.5}$\n",
    "\n",
    "$I = e^{-ln10 m /2.5}$\n",
    "\n",
    "$|\\dfrac{dI}{dm}| = e^{-ln10 m /2.5} |\\dfrac{ln10}{2.5}| = \\dfrac{ln10}{2.5}10^{-m/2.5}$\n",
    "\n",
    "$P(m)dm = P(I)dI$\n",
    "\n",
    "$P(m) = \\dfrac{I}{\\sqrt{2\\pi \\sigma_I^2}} exp[-\\dfrac{(10^{-m/2.5}-\\bar{I})^2}{2\\sigma_I ^2}] \\dfrac{Ln10}{2.5} 10^{-m/2.5}$\n",
    "\n",
    "\n",
    "$P(m) = \\dfrac{Ln10}{2.5 \\sqrt(2\\pi \\sigma_I^2)} exp[-\\dfrac{(10^{-m/2.5}-\\bar{I})^2}{2\\sigma_I ^2}] 10^{-m/2.5}$"
   ]
  },
  {
   "cell_type": "markdown",
   "metadata": {},
   "source": [
    "## How to find the confidence values in an asymmetric distribution of values?\n",
    "\n",
    "One way is:\n",
    "\n",
    "- you pick the extreme values ($\\bar{m} - \\epsilon_{-}  \\& \\bar{m} - \\epsilon_{+}$) to have the same likilihood and the integral between them have to ve the 68% of your function.\n",
    "\n",
    "- In 2d you plot contours of equally likelihod and you find the contour that encloses the 68%.\n",
    "\n"
   ]
  },
  {
   "cell_type": "markdown",
   "metadata": {},
   "source": [
    "##  In the previpus analysis I asusme that I can go from one value of x to one of u\n",
    "\n",
    "$P(x) = P(u) |\\dfrac{d u}{d x}|$\n",
    "\n",
    "Ex:\n",
    "\n",
    "$x = u^2$\n"
   ]
  },
  {
   "cell_type": "code",
   "execution_count": 7,
   "metadata": {
    "collapsed": false
   },
   "outputs": [],
   "source": [
    "def xfunc(u):\n",
    "    return u**2"
   ]
  },
  {
   "cell_type": "code",
   "execution_count": 8,
   "metadata": {
    "collapsed": true
   },
   "outputs": [],
   "source": [
    "N_points = 1000000\n",
    "mean_u = 1.0\n",
    "sigmau1 = 0.1\n",
    "sigmau2 = 0.4\n",
    "sigmau3 = 0.5"
   ]
  },
  {
   "cell_type": "code",
   "execution_count": 9,
   "metadata": {
    "collapsed": false
   },
   "outputs": [],
   "source": [
    "u1 = random.normal(mean_u, sigmau1, N_points)\n",
    "u2 = random.normal(mean_u, sigmau2, N_points)\n",
    "u3 = random.normal(mean_u, sigmau3, N_points)"
   ]
  },
  {
   "cell_type": "code",
   "execution_count": 10,
   "metadata": {
    "collapsed": true
   },
   "outputs": [],
   "source": [
    "x1 = xfunc(u1)\n",
    "x2 = xfunc(u2)\n",
    "x3 = xfunc(u3)"
   ]
  },
  {
   "cell_type": "code",
   "execution_count": 11,
   "metadata": {
    "collapsed": false
   },
   "outputs": [
    {
     "data": {
      "text/plain": [
       "(0, 3.0)"
      ]
     },
     "execution_count": 11,
     "metadata": {},
     "output_type": "execute_result"
    },
    {
     "data": {
      "image/png": "[encoded data removed]",
      "text/plain": [
       "<matplotlib.figure.Figure at 0x7f9178992310>"
      ]
     },
     "metadata": {},
     "output_type": "display_data"
    }
   ],
   "source": [
    "figure(figsize=(6, 6))\n",
    "h1 = hist(x1, bins=1000, histtype='step', normed=True, lw=2)\n",
    "h2 = hist(x2, bins=1000, histtype='step', normed=True, lw=2)\n",
    "h3 = hist(x3, bins=1000, histtype='step', normed=True, lw=2)\n",
    "xlim(0, 3.0)"
   ]
  },
  {
   "cell_type": "markdown",
   "metadata": {},
   "source": [
    " Now there are two peacks to avoid this we need to break it:\n",
    " \n",
    " $P(x) = P_{I}(u) |\\dfrac{du}{dx}|_I +   P_{II}(u) |\\dfrac{du}{dx}|_{II}$\n",
    " \n",
    " where $u_I = \\sqrt(x) => |\\dfrac{du}{dx}| = \\dfrac{1}{2\\sqrt{x}}$\n",
    " \n",
    " where $u_{II} = -\\sqrt(x) => |\\dfrac{du}{dx}| = \\dfrac{1}{2\\sqrt{x}}$\n",
    "  \n",
    "  \n",
    " $P(x) = \\dfrac{2P(u)}{2\\sqrt{x}} = \\dfrac{1}{\\sqrt{2\\pi \\sigma_u^2 x}} e^{-\\dfrac{(\\sqrt{x} - \\bar{u})^2}{2\\sigma_u^2}} ; x>0$\n",
    " \n",
    " \n",
    "### This goes by the name of 'Lutz-Kelter bias'"
   ]
  },
  {
   "cell_type": "markdown",
   "metadata": {},
   "source": [
    "# How to find our uncertainties $(-\\epsilon, +\\epsilon)$"
   ]
  },
  {
   "cell_type": "markdown",
   "metadata": {},
   "source": [
    "Algorithm:\n",
    "    \n",
    "1. Find maximum value of your likelihood $P_{max}$. \n",
    "2. $N_p$ how many points are you goig to use to discretize from 0 to $P_{max}$\n",
    "3. For each of this values compute the integral $c(P_{max}/N_p) = \\int P(x) dx$ $P(x)> \\dfrac{P_{max}}{{N_p}}$\n",
    "4. $N_p$, $c(P_{max}/N_p) = 0.68$"
   ]
  },
  {
   "cell_type": "code",
   "execution_count": 12,
   "metadata": {
    "collapsed": true
   },
   "outputs": [],
   "source": [
    "def integral(a, b, f):\n",
    "    low = abs(f[1] - a)\n",
    "    high = abs(f[1] - b)\n",
    "    index_low = np.where(low == min(low))[0]\n",
    "    index_high = np.where(high == min(high))[0]\n",
    "    dl = f[0][index_low]\n",
    "    dh = f[0][index_high]\n",
    "    dt = abs(f[1][index_low+1] - f[1][index_low])\n",
    "    I = sum(f[0][index_low:index_high]) * dt\n",
    "    return I\n",
    "    "
   ]
  },
  {
   "cell_type": "code",
   "execution_count": 13,
   "metadata": {
    "collapsed": true
   },
   "outputs": [],
   "source": [
    "def limits(x, f):\n",
    "    likelihood_v = abs(f[0] - x)\n",
    "    "
   ]
  },
  {
   "cell_type": "code",
   "execution_count": 19,
   "metadata": {
    "collapsed": false
   },
   "outputs": [
    {
     "name": "stderr",
     "output_type": "stream",
     "text": [
      "/usr/local/lib/python2.7/dist-packages/ipykernel/__main__.py:9: DeprecationWarning: converting an array with ndim > 0 to an index will result in an error in the future\n"
     ]
    },
    {
     "data": {
      "text/plain": [
       "array([ 0.987691])"
      ]
     },
     "execution_count": 19,
     "metadata": {},
     "output_type": "execute_result"
    }
   ],
   "source": [
    "integral(0.4, 1.5, h1)"
   ]
  },
  {
   "cell_type": "code",
   "execution_count": 15,
   "metadata": {
    "collapsed": false
   },
   "outputs": [
    {
     "ename": "SyntaxError",
     "evalue": "invalid syntax (<ipython-input-15-b48783e89e3c>, line 3)",
     "output_type": "error",
     "traceback": [
      "\u001b[1;36m  File \u001b[1;32m\"<ipython-input-15-b48783e89e3c>\"\u001b[1;36m, line \u001b[1;32m3\u001b[0m\n\u001b[1;33m    a_init =\u001b[0m\n\u001b[1;37m             ^\u001b[0m\n\u001b[1;31mSyntaxError\u001b[0m\u001b[1;31m:\u001b[0m invalid syntax\n"
     ]
    }
   ],
   "source": [
    "def algorithm(f):\n",
    "    Pmax = max(f[0])\n",
    "    a_init = "
   ]
  },
  {
   "cell_type": "code",
   "execution_count": 16,
   "metadata": {
    "collapsed": false
   },
   "outputs": [
    {
     "name": "stdout",
     "output_type": "stream",
     "text": [
      "80"
     ]
    },
    {
     "ename": "TypeError",
     "evalue": "object of type 'numpy.float64' has no len()",
     "output_type": "error",
     "traceback": [
      "\u001b[1;31m---------------------------------------------------------------------------\u001b[0m",
      "\u001b[1;31mTypeError\u001b[0m                                 Traceback (most recent call last)",
      "\u001b[1;32m<ipython-input-16-1be914580c0c>\u001b[0m in \u001b[0;36m<module>\u001b[1;34m()\u001b[0m\n\u001b[1;32m----> 1\u001b[1;33m \u001b[1;32mprint\u001b[0m \u001b[0mlen\u001b[0m\u001b[1;33m(\u001b[0m\u001b[0mh\u001b[0m\u001b[1;33m[\u001b[0m\u001b[1;36m0\u001b[0m\u001b[1;33m]\u001b[0m\u001b[1;33m)\u001b[0m\u001b[1;33m,\u001b[0m \u001b[0mlen\u001b[0m\u001b[1;33m(\u001b[0m\u001b[0mh\u001b[0m\u001b[1;33m[\u001b[0m\u001b[1;36m1\u001b[0m\u001b[1;33m]\u001b[0m\u001b[1;33m[\u001b[0m\u001b[1;36m0\u001b[0m\u001b[1;33m]\u001b[0m\u001b[1;33m)\u001b[0m\u001b[1;33m\u001b[0m\u001b[0m\n\u001b[0m",
      "\u001b[1;31mTypeError\u001b[0m: object of type 'numpy.float64' has no len()"
     ]
    }
   ],
   "source": [
    "print len(h[0]), len(h[1][0])"
   ]
  },
  {
   "cell_type": "code",
   "execution_count": 17,
   "metadata": {
    "collapsed": false
   },
   "outputs": [
    {
     "name": "stdout",
     "output_type": "stream",
     "text": [
      " [ 0.43557082]\n",
      "[ 0.501848]\n"
     ]
    }
   ],
   "source": [
    "low = abs(h[1] - 0.3)\n",
    "low2 = abs(h[1] - 0.5)\n",
    "\n",
    "index_1 = where(low == min(low))[0]\n",
    "index_2 = where(low2 == min(low2))[0]\n",
    "\n",
    "print h[1][index_1]\n",
    "print h[1][index_2]"
   ]
  }
 ],
 "metadata": {
  "kernelspec": {
   "display_name": "Python 2",
   "language": "python",
   "name": "python2"
  },
  "language_info": {
   "codemirror_mode": {
    "name": "ipython",
    "version": 2
   },
   "file_extension": ".py",
   "mimetype": "text/x-python",
   "name": "python",
   "nbconvert_exporter": "python",
   "pygments_lexer": "ipython2",
   "version": "2.7.6"
  }
 },
 "nbformat": 4,
 "nbformat_minor": 0
}
